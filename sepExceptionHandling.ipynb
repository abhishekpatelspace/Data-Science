{
  "nbformat": 4,
  "nbformat_minor": 0,
  "metadata": {
    "colab": {
      "provenance": [],
      "authorship_tag": "ABX9TyOA/yGjGvvVpDzW2siGaIL3",
      "include_colab_link": true
    },
    "kernelspec": {
      "name": "python3",
      "display_name": "Python 3"
    },
    "language_info": {
      "name": "python"
    }
  },
  "cells": [
    {
      "cell_type": "markdown",
      "metadata": {
        "id": "view-in-github",
        "colab_type": "text"
      },
      "source": [
        "<a href=\"https://colab.research.google.com/github/abhishekpatelspace/Data-Science/blob/main/sepExceptionHandling.ipynb\" target=\"_parent\"><img src=\"https://colab.research.google.com/assets/colab-badge.svg\" alt=\"Open In Colab\"/></a>"
      ]
    },
    {
      "cell_type": "code",
      "execution_count": null,
      "metadata": {
        "id": "KRYyQu3lke73"
      },
      "outputs": [],
      "source": [
        "#Exception handling\n",
        "#mainly Three keywords are used in in exception handling\n",
        "#1.try\n",
        "#2.except\n",
        "#3.finally"
      ]
    },
    {
      "cell_type": "code",
      "source": [
        "#first rogram to demonstrate\n",
        "a=int(input(\"Enter the value of a :\"))\n",
        "b=int(input(\"Enter the value of b :\"))\n",
        "c=a/b\n",
        "print(c)"
      ],
      "metadata": {
        "colab": {
          "base_uri": "https://localhost:8080/",
          "height": 238
        },
        "id": "JOUjGp6jw1lH",
        "outputId": "3dbff7e3-789c-4991-f7d4-c66e42121f99"
      },
      "execution_count": null,
      "outputs": [
        {
          "name": "stdout",
          "output_type": "stream",
          "text": [
            "Enter the value of a :10\n",
            "Enter the value of b :0\n"
          ]
        },
        {
          "output_type": "error",
          "ename": "ZeroDivisionError",
          "evalue": "division by zero",
          "traceback": [
            "\u001b[0;31m---------------------------------------------------------------------------\u001b[0m",
            "\u001b[0;31mZeroDivisionError\u001b[0m                         Traceback (most recent call last)",
            "\u001b[0;32m<ipython-input-2-46cb43489aef>\u001b[0m in \u001b[0;36m<cell line: 4>\u001b[0;34m()\u001b[0m\n\u001b[1;32m      2\u001b[0m \u001b[0ma\u001b[0m\u001b[0;34m=\u001b[0m\u001b[0mint\u001b[0m\u001b[0;34m(\u001b[0m\u001b[0minput\u001b[0m\u001b[0;34m(\u001b[0m\u001b[0;34m\"Enter the value of a :\"\u001b[0m\u001b[0;34m)\u001b[0m\u001b[0;34m)\u001b[0m\u001b[0;34m\u001b[0m\u001b[0;34m\u001b[0m\u001b[0m\n\u001b[1;32m      3\u001b[0m \u001b[0mb\u001b[0m\u001b[0;34m=\u001b[0m\u001b[0mint\u001b[0m\u001b[0;34m(\u001b[0m\u001b[0minput\u001b[0m\u001b[0;34m(\u001b[0m\u001b[0;34m\"Enter the value of b :\"\u001b[0m\u001b[0;34m)\u001b[0m\u001b[0;34m)\u001b[0m\u001b[0;34m\u001b[0m\u001b[0;34m\u001b[0m\u001b[0m\n\u001b[0;32m----> 4\u001b[0;31m \u001b[0mc\u001b[0m\u001b[0;34m=\u001b[0m\u001b[0ma\u001b[0m\u001b[0;34m/\u001b[0m\u001b[0mb\u001b[0m\u001b[0;34m\u001b[0m\u001b[0;34m\u001b[0m\u001b[0m\n\u001b[0m\u001b[1;32m      5\u001b[0m \u001b[0mprint\u001b[0m\u001b[0;34m(\u001b[0m\u001b[0mc\u001b[0m\u001b[0;34m)\u001b[0m\u001b[0;34m\u001b[0m\u001b[0;34m\u001b[0m\u001b[0m\n",
            "\u001b[0;31mZeroDivisionError\u001b[0m: division by zero"
          ]
        }
      ]
    },
    {
      "cell_type": "code",
      "source": [
        "#in above program we got error i.e. ZeroDivisionError"
      ],
      "metadata": {
        "id": "0ohm-76-xlRS"
      },
      "execution_count": null,
      "outputs": []
    },
    {
      "cell_type": "code",
      "source": [
        "try:\n",
        "   a=int(input(\"Enter the value of a :\"))\n",
        "   b=int(input(\"Enter the value of b :\"))\n",
        "   c=a/b\n",
        "   print(c)\n",
        "except:\n",
        "    print(\"Print something else\")\n"
      ],
      "metadata": {
        "colab": {
          "base_uri": "https://localhost:8080/"
        },
        "id": "yfyL1Gauxvrp",
        "outputId": "dd92cf2b-505e-4a4a-df45-520751963d99"
      },
      "execution_count": null,
      "outputs": [
        {
          "output_type": "stream",
          "name": "stdout",
          "text": [
            "Enter the value of a :10\n",
            "Enter the value of b :0\n",
            "Print something else\n"
          ]
        }
      ]
    },
    {
      "cell_type": "code",
      "source": [],
      "metadata": {
        "id": "YmvthvNzzhdL"
      },
      "execution_count": null,
      "outputs": []
    },
    {
      "cell_type": "code",
      "source": [
        "l=[5,4,6,2,8,99,88,44,56,41,22]\n",
        "list=[]\n",
        "def even_perser(l):\n",
        "    try:\n",
        "         for i in l:\n",
        "            if i%2==0:\n",
        "                 list.append(i)\n",
        "         return list\n",
        "    except:\n",
        "        pass\n"
      ],
      "metadata": {
        "id": "VlEerF31yGnM"
      },
      "execution_count": null,
      "outputs": []
    },
    {
      "cell_type": "code",
      "source": [
        "even_perser(5)\n",
        "print(\"i am entering something that is not acceptable \")"
      ],
      "metadata": {
        "colab": {
          "base_uri": "https://localhost:8080/"
        },
        "id": "ore4YyGMziEr",
        "outputId": "df54f716-fecc-4bc9-c747-c7963dbac8bc"
      },
      "execution_count": null,
      "outputs": [
        {
          "output_type": "stream",
          "name": "stdout",
          "text": [
            "i am entering something that is not acceptable \n"
          ]
        }
      ]
    },
    {
      "cell_type": "code",
      "source": [
        "try:\n",
        "    a=int(input())\n",
        "    b=int(input())\n",
        "    c=a/b\n",
        "except Exception as e:\n",
        "    print(e)"
      ],
      "metadata": {
        "colab": {
          "base_uri": "https://localhost:8080/"
        },
        "id": "lK6xwAcY2NWP",
        "outputId": "cb7bb421-12c1-43e2-8a9c-fe54d99d34d3"
      },
      "execution_count": null,
      "outputs": [
        {
          "output_type": "stream",
          "name": "stdout",
          "text": [
            "3\n",
            "0\n",
            "division by zero\n"
          ]
        }
      ]
    },
    {
      "cell_type": "code",
      "source": [
        "#Exception is super class for exception handling it consist diffrent classes like TypeError,ZeroDivisionError etc."
      ],
      "metadata": {
        "id": "NxrYmdFn2H4A"
      },
      "execution_count": null,
      "outputs": []
    },
    {
      "cell_type": "code",
      "source": [
        "try:\n",
        "    a=int(input())\n",
        "    b=int(input())\n",
        "    c=a/b\n",
        "except TypeError as t:\n",
        "    print(t)\n",
        "except ZeroDivisionError as z:\n",
        "    print(z)\n",
        "except ValueError as v:\n",
        "    print(v)\n",
        "\n"
      ],
      "metadata": {
        "id": "Bfz2mLCV7Oao"
      },
      "execution_count": null,
      "outputs": []
    },
    {
      "cell_type": "code",
      "source": [
        "#try and except bolck inside try and except"
      ],
      "metadata": {
        "id": "YTlxwuoc7zBJ"
      },
      "execution_count": null,
      "outputs": []
    },
    {
      "cell_type": "code",
      "source": [
        "try:\n",
        "    x=9/0\n",
        "except ZeroDivisionError as z:\n",
        "    print(z)\n",
        "    try:\n",
        "        y=int(\"abhi\")\n",
        "    except ValueError as v:\n",
        "        print(v)"
      ],
      "metadata": {
        "colab": {
          "base_uri": "https://localhost:8080/"
        },
        "id": "TcySrRiEGKpc",
        "outputId": "31f16748-fb2f-4ceb-99a6-60a86b901032"
      },
      "execution_count": null,
      "outputs": [
        {
          "output_type": "stream",
          "name": "stdout",
          "text": [
            "division by zero\n",
            "invalid literal for int() with base 10: 'abhi'\n"
          ]
        }
      ]
    },
    {
      "cell_type": "code",
      "source": [
        "try:\n",
        "    a=\"sudh\"\n",
        "    b=0\n",
        "except ValueError as v:\n",
        "    print(v)\n",
        "finally :\n",
        "    print(\"This will always executed\")"
      ],
      "metadata": {
        "id": "MY_uT8mTGkm8",
        "colab": {
          "base_uri": "https://localhost:8080/"
        },
        "outputId": "82288dfe-0258-443a-f77c-57d6951f7cfc"
      },
      "execution_count": null,
      "outputs": [
        {
          "output_type": "stream",
          "name": "stdout",
          "text": [
            "This will always executed\n"
          ]
        }
      ]
    },
    {
      "cell_type": "code",
      "source": [
        "def countdown(n):\n",
        "    while n>0:\n",
        "        yield n\n",
        "        n -= 1\n",
        "\n",
        "# Usage\n",
        "gen = countdown(10)\n",
        "for num in gen:\n",
        "    print(num)\n",
        "\n"
      ],
      "metadata": {
        "colab": {
          "base_uri": "https://localhost:8080/"
        },
        "id": "o-g_mSSw4g9h",
        "outputId": "40cb8fd7-fa95-461c-ce5f-1ad4043a021e"
      },
      "execution_count": null,
      "outputs": [
        {
          "output_type": "stream",
          "name": "stdout",
          "text": [
            "10\n",
            "9\n",
            "8\n",
            "7\n",
            "6\n",
            "5\n",
            "4\n",
            "3\n",
            "2\n",
            "1\n"
          ]
        }
      ]
    },
    {
      "cell_type": "code",
      "source": [
        "try:\n",
        "    a=int(input())\n",
        "    b=int(input())\n",
        "    c=a/b\n",
        "    print(c)\n",
        "except:\n",
        "    print(\"run succesfully, because error will occured is known\")\n"
      ],
      "metadata": {
        "colab": {
          "base_uri": "https://localhost:8080/"
        },
        "id": "B9nyyfoCDUyt",
        "outputId": "ba8d46b4-af20-40f2-a288-e59c0a0b2292"
      },
      "execution_count": null,
      "outputs": [
        {
          "output_type": "stream",
          "name": "stdout",
          "text": [
            "10\n",
            "0\n",
            "run succesfully, because error will occured is known\n"
          ]
        }
      ]
    },
    {
      "cell_type": "code",
      "source": [
        "try:\n",
        "    a=3/2\n",
        "except ZeroDivisionError as z:\n",
        "    print(z)\n",
        "else:\n",
        "    print(\"This will run only if try will run without error \")\n",
        "finally:\n",
        "    print(\"this block will always run\")"
      ],
      "metadata": {
        "colab": {
          "base_uri": "https://localhost:8080/"
        },
        "id": "X4oAI0InJ92p",
        "outputId": "0fb0d76d-0a50-45f2-df3f-87b9cc6406c7"
      },
      "execution_count": null,
      "outputs": [
        {
          "output_type": "stream",
          "name": "stdout",
          "text": [
            "This will run only if try will run without error \n",
            "this block will always run\n"
          ]
        }
      ]
    },
    {
      "cell_type": "code",
      "source": [
        "try:\n",
        "    a=3/0\n",
        "except ZeroDivisionError as z:\n",
        "    print(z)\n",
        "else:\n",
        "    print(\"This will run only if try will run without error \")\n",
        "finally:\n",
        "    print(\"this block will always run\")"
      ],
      "metadata": {
        "colab": {
          "base_uri": "https://localhost:8080/"
        },
        "id": "nJ6gKP0RL5lu",
        "outputId": "4ecb7fdc-8cfe-4786-d31d-b6d2b618619d"
      },
      "execution_count": null,
      "outputs": [
        {
          "output_type": "stream",
          "name": "stdout",
          "text": [
            "division by zero\n",
            "this block will always run\n"
          ]
        }
      ]
    },
    {
      "cell_type": "code",
      "source": [
        "\n",
        "try:\n",
        "    dict={\"user\":'abhishek',\"contact_no\":915467899,\"email_id\":\"abhi@gmail.com\"}\n",
        "    dict[\"course\"]\n",
        "except Exception as e:\n",
        "      print(e)"
      ],
      "metadata": {
        "colab": {
          "base_uri": "https://localhost:8080/"
        },
        "id": "scAWggwoMFSs",
        "outputId": "72e1c7d9-c627-4275-dfa2-d80839cc115d"
      },
      "execution_count": null,
      "outputs": [
        {
          "output_type": "stream",
          "name": "stdout",
          "text": [
            "'course'\n"
          ]
        }
      ]
    },
    {
      "cell_type": "code",
      "source": [
        "dict={\"user\":'abhishek',\"contact_no\":915467899,\"email_id\":\"abhi@gmail.com\"}"
      ],
      "metadata": {
        "id": "OvSTlM_YNHJS"
      },
      "execution_count": null,
      "outputs": []
    },
    {
      "cell_type": "code",
      "source": [
        "dict"
      ],
      "metadata": {
        "colab": {
          "base_uri": "https://localhost:8080/"
        },
        "id": "sEDx1BCEPJWa",
        "outputId": "2aeac092-c696-4374-bfb0-6f4d0e9b53ba"
      },
      "execution_count": null,
      "outputs": [
        {
          "output_type": "execute_result",
          "data": {
            "text/plain": [
              "{'user': 'abhishek', 'contact_no': 915467899, 'email_id': 'abhi@gmail.com'}"
            ]
          },
          "metadata": {},
          "execution_count": 33
        }
      ]
    },
    {
      "cell_type": "code",
      "source": [
        "ls"
      ],
      "metadata": {
        "id": "edX6QR6EScBW",
        "colab": {
          "base_uri": "https://localhost:8080/"
        },
        "outputId": "2c911ea2-d2b0-4cd5-e0bc-13cb3c508056"
      },
      "execution_count": null,
      "outputs": [
        {
          "output_type": "stream",
          "name": "stdout",
          "text": [
            "\u001b[0m\u001b[01;34msample_data\u001b[0m/\n"
          ]
        }
      ]
    },
    {
      "cell_type": "code",
      "source": [
        "ls-l"
      ],
      "metadata": {
        "colab": {
          "base_uri": "https://localhost:8080/"
        },
        "id": "ZC8koun84VwI",
        "outputId": "4a9d34b4-4d48-4608-82aa-55bc0bed13c7"
      },
      "execution_count": null,
      "outputs": [
        {
          "output_type": "stream",
          "name": "stdout",
          "text": [
            "total 4\n",
            "drwxr-xr-x 1 root root 4096 Jul 30 13:24 \u001b[0m\u001b[01;34msample_data\u001b[0m/\n"
          ]
        }
      ]
    },
    {
      "cell_type": "code",
      "source": [
        "pwd"
      ],
      "metadata": {
        "colab": {
          "base_uri": "https://localhost:8080/",
          "height": 36
        },
        "id": "BsRfW5B34lVe",
        "outputId": "15b400e7-d099-494c-912f-654d8401b52e"
      },
      "execution_count": null,
      "outputs": [
        {
          "output_type": "execute_result",
          "data": {
            "text/plain": [
              "'/content'"
            ],
            "application/vnd.google.colaboratory.intrinsic+json": {
              "type": "string"
            }
          },
          "metadata": {},
          "execution_count": 3
        }
      ]
    },
    {
      "cell_type": "code",
      "source": [
        "file_name=\"/content/test.txt\"\n",
        "f=open(file_name)\n",
        "f.read()\n"
      ],
      "metadata": {
        "colab": {
          "base_uri": "https://localhost:8080/",
          "height": 36
        },
        "id": "0Ldf21wy4o9u",
        "outputId": "cb21a376-7f2e-4ac5-e66f-cc1ffe3b6888"
      },
      "execution_count": null,
      "outputs": [
        {
          "output_type": "execute_result",
          "data": {
            "text/plain": [
              "'name\\nenrollment no \\ntransaction id '"
            ],
            "application/vnd.google.colaboratory.intrinsic+json": {
              "type": "string"
            }
          },
          "metadata": {},
          "execution_count": 14
        }
      ]
    },
    {
      "cell_type": "code",
      "source": [
        "file_name=\"test.txt\"\n",
        "f=open(file_name)\n",
        "f.read()"
      ],
      "metadata": {
        "colab": {
          "base_uri": "https://localhost:8080/",
          "height": 36
        },
        "id": "cK2PhUTc5032",
        "outputId": "e3c1c03e-60c3-4f5f-8bba-7f16aaa93912"
      },
      "execution_count": null,
      "outputs": [
        {
          "output_type": "execute_result",
          "data": {
            "text/plain": [
              "'name\\nenrollment no \\ntransaction id '"
            ],
            "application/vnd.google.colaboratory.intrinsic+json": {
              "type": "string"
            }
          },
          "metadata": {},
          "execution_count": 15
        }
      ]
    },
    {
      "cell_type": "code",
      "source": [],
      "metadata": {
        "colab": {
          "base_uri": "https://localhost:8080/"
        },
        "id": "xZhhpiIy8G3t",
        "outputId": "a5be0c89-738b-49be-a1e6-149c066f2df1"
      },
      "execution_count": null,
      "outputs": [
        {
          "output_type": "stream",
          "name": "stdout",
          "text": [
            "[Errno 2] No such file or directory: 'pro'\n",
            "/content\n"
          ]
        }
      ]
    },
    {
      "cell_type": "code",
      "source": [
        "i=-1\n"
      ],
      "metadata": {
        "id": "n_fVtepO8V11"
      },
      "execution_count": null,
      "outputs": []
    },
    {
      "cell_type": "code",
      "source": [
        "i!=0"
      ],
      "metadata": {
        "colab": {
          "base_uri": "https://localhost:8080/"
        },
        "id": "1mVXt8JUVDCW",
        "outputId": "202f3107-ba8f-46ea-e0d3-95061a13556b"
      },
      "execution_count": null,
      "outputs": [
        {
          "output_type": "execute_result",
          "data": {
            "text/plain": [
              "True"
            ]
          },
          "metadata": {},
          "execution_count": 9
        }
      ]
    },
    {
      "cell_type": "code",
      "source": [
        "def f(*x):\n",
        "    return sum(x)\n",
        "\n",
        "\n"
      ],
      "metadata": {
        "id": "rVLOfv5jVP51"
      },
      "execution_count": null,
      "outputs": []
    },
    {
      "cell_type": "code",
      "source": [
        "f(5,10)"
      ],
      "metadata": {
        "colab": {
          "base_uri": "https://localhost:8080/"
        },
        "id": "NKp2w-_6WWB3",
        "outputId": "5ecf4b45-8c93-46a2-de14-be992d5ab2de"
      },
      "execution_count": null,
      "outputs": [
        {
          "output_type": "execute_result",
          "data": {
            "text/plain": [
              "15"
            ]
          },
          "metadata": {},
          "execution_count": 13
        }
      ]
    },
    {
      "cell_type": "code",
      "source": [
        "a = [1, 2, 3]\n",
        "try:\n",
        "\tprint (\"Second element = \" ,(a[1]))\n",
        "\n",
        "\tprint (\"Fourth element =\",(a[3]))\n",
        "\n",
        "except:\n",
        "\tprint (\"An error occurred\")\n"
      ],
      "metadata": {
        "id": "l65oDJUQWcPX",
        "colab": {
          "base_uri": "https://localhost:8080/"
        },
        "outputId": "63fff4b7-f67f-423f-cad3-576a1b9d501e"
      },
      "execution_count": null,
      "outputs": [
        {
          "output_type": "stream",
          "name": "stdout",
          "text": [
            "Second element =  2\n",
            "An error occurred\n"
          ]
        }
      ]
    },
    {
      "cell_type": "code",
      "source": [
        "def fun(a):\n",
        "\tif a < 4:\n",
        "\n",
        "\t\tb = a/(a-3)\n",
        "\tprint(\"Value of b = \", b)\n",
        "\n",
        "try:\n",
        "\t#fun(3)\n",
        "\tfun(5)\n",
        "except ZeroDivisionError:\n",
        "\tprint(\"ZeroDivisionError Occurred and Handled\")\n",
        "except NameError:\n",
        "\tprint(\"NameError Occurred and Handled\")\n"
      ],
      "metadata": {
        "colab": {
          "base_uri": "https://localhost:8080/"
        },
        "id": "OIecUpyolOUc",
        "outputId": "a0d2f1a5-a9ea-438d-f06a-3dabe829b904"
      },
      "execution_count": null,
      "outputs": [
        {
          "output_type": "stream",
          "name": "stdout",
          "text": [
            "NameError Occurred and Handled\n"
          ]
        }
      ]
    },
    {
      "cell_type": "code",
      "source": [
        "def AbyB(a , b):\n",
        "\ttry:\n",
        "\t\tc = ((a+b) / (a-b))\n",
        "\texcept ZeroDivisionError:\n",
        "\t\tprint (\"a/b result in 0\")\n",
        "\telse:\n",
        "\t\tprint (c)\n",
        "\n"
      ],
      "metadata": {
        "id": "LQKjVQlvpt2R"
      },
      "execution_count": null,
      "outputs": []
    },
    {
      "cell_type": "code",
      "source": [
        "AbyB(3,3)"
      ],
      "metadata": {
        "colab": {
          "base_uri": "https://localhost:8080/"
        },
        "id": "N-uohtpwpxTA",
        "outputId": "162ff6ba-9ecd-456d-ddf6-0bcb68418749"
      },
      "execution_count": null,
      "outputs": [
        {
          "output_type": "stream",
          "name": "stdout",
          "text": [
            "a/b result in 0\n"
          ]
        }
      ]
    },
    {
      "cell_type": "code",
      "source": [
        "f=open(\"test.txt\")\n",
        "f.read()\n",
        "f.close()"
      ],
      "metadata": {
        "id": "_GesLyGntWCH"
      },
      "execution_count": null,
      "outputs": []
    },
    {
      "cell_type": "code",
      "source": [
        "try:\n",
        "    f=open(\"test.txt\")\n",
        "    f.write()\n",
        "except Exception:\n",
        "    print(\"there is some issue\")\n",
        "finally:\n",
        "    f.close()\n",
        "    print(\"file closed \")"
      ],
      "metadata": {
        "colab": {
          "base_uri": "https://localhost:8080/"
        },
        "id": "uKSEIUWK2EqV",
        "outputId": "70b52c6e-5647-4c08-98d8-4fecbec6bfca"
      },
      "execution_count": null,
      "outputs": [
        {
          "output_type": "stream",
          "name": "stdout",
          "text": [
            "there is some issue\n",
            "file closed \n"
          ]
        }
      ]
    },
    {
      "cell_type": "code",
      "source": [
        "#create custom exceptions using raise keyword"
      ],
      "metadata": {
        "id": "jtH15LQD2sP_"
      },
      "execution_count": null,
      "outputs": []
    },
    {
      "cell_type": "code",
      "source": [
        "try:\n",
        "    age=int(input('Enter your age :'))\n",
        "    if age<0:\n",
        "        raise ValueError(\"User has entered invalid age because age can not be negative \")\n",
        "    elif age<18:\n",
        "        raise ValueError(\"user is under age\")\n",
        "\n",
        "    else:\n",
        "        print(\"valid user\")\n",
        "except Exception as e:\n",
        "    print(e)"
      ],
      "metadata": {
        "colab": {
          "base_uri": "https://localhost:8080/"
        },
        "id": "dPNX-m6c67ae",
        "outputId": "9d4ece9c-a95b-408f-918f-8ac5b7b708fe"
      },
      "execution_count": null,
      "outputs": [
        {
          "output_type": "stream",
          "name": "stdout",
          "text": [
            "Enter your age :15\n",
            "user is under age\n"
          ]
        }
      ]
    },
    {
      "cell_type": "code",
      "source": [
        "import logging as log"
      ],
      "metadata": {
        "id": "fHXwogi_7pp_"
      },
      "execution_count": null,
      "outputs": []
    },
    {
      "cell_type": "code",
      "source": [
        "log.basicConfig(filename=\"test.log\",level=log.INFO)"
      ],
      "metadata": {
        "id": "iW5Rt5Fb9mvq"
      },
      "execution_count": null,
      "outputs": []
    },
    {
      "cell_type": "code",
      "source": [
        "log.info(\"Store a msg\")"
      ],
      "metadata": {
        "id": "hMtOav5I9zdz"
      },
      "execution_count": null,
      "outputs": []
    },
    {
      "cell_type": "code",
      "source": [
        "log.debug(\"this is a debug msg\")"
      ],
      "metadata": {
        "id": "G0Zq1T3W95wr"
      },
      "execution_count": null,
      "outputs": []
    },
    {
      "cell_type": "code",
      "source": [],
      "metadata": {
        "id": "ZSq-nzn6CtHM"
      },
      "execution_count": null,
      "outputs": []
    }
  ]
}