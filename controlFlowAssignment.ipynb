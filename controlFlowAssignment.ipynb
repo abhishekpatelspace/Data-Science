{
  "nbformat": 4,
  "nbformat_minor": 0,
  "metadata": {
    "colab": {
      "provenance": [],
      "authorship_tag": "ABX9TyO248zIby8ArxhPE52fo0hB",
      "include_colab_link": true
    },
    "kernelspec": {
      "name": "python3",
      "display_name": "Python 3"
    },
    "language_info": {
      "name": "python"
    }
  },
  "cells": [
    {
      "cell_type": "markdown",
      "metadata": {
        "id": "view-in-github",
        "colab_type": "text"
      },
      "source": [
        "<a href=\"https://colab.research.google.com/github/abhishekpatelspace/Data-Science/blob/main/controlFlowAssignment.ipynb\" target=\"_parent\"><img src=\"https://colab.research.google.com/assets/colab-badge.svg\" alt=\"Open In Colab\"/></a>"
      ]
    },
    {
      "cell_type": "code",
      "execution_count": null,
      "metadata": {
        "id": "5OKmpGFyqPgR"
      },
      "outputs": [],
      "source": []
    },
    {
      "cell_type": "markdown",
      "source": [
        "1.Write a Python program to check if a given number is positive or negative."
      ],
      "metadata": {
        "id": "TLT43oD9rUYZ"
      }
    },
    {
      "cell_type": "code",
      "source": [
        "num=float(input(\"Enter the integer \"))\n",
        "\n",
        "if num>0:\n",
        "    print(\"number is positive\")\n",
        "elif num<0:\n",
        "    print(\"number is negative\")\n",
        "else:\n",
        "    print(\"Invalid input , please do valid entry\")"
      ],
      "metadata": {
        "colab": {
          "base_uri": "https://localhost:8080/"
        },
        "id": "tnFwT7jlrX7R",
        "outputId": "0d8b0798-eee6-48a5-ca2d-a6d562202b5d"
      },
      "execution_count": null,
      "outputs": [
        {
          "output_type": "stream",
          "name": "stdout",
          "text": [
            "Enter the integer 100\n",
            "number is positive\n"
          ]
        }
      ]
    },
    {
      "cell_type": "markdown",
      "source": [
        "2.Create a program that determines if a person is eligible to vote based on their age.\n",
        "\n"
      ],
      "metadata": {
        "id": "gnCGZ2BxuEDv"
      }
    },
    {
      "cell_type": "code",
      "source": [
        "age=int(input(\"enter your age \"))\n",
        "if age>18:\n",
        "    print(\"Your are eligible for voting \")\n",
        "elif(age>0 and age<18):\n",
        "    print(\"You are not eligible for voting\")\n",
        "else:\n",
        "    print(\"Invalid input\")\n"
      ],
      "metadata": {
        "colab": {
          "base_uri": "https://localhost:8080/"
        },
        "id": "ozQE0JoKty9P",
        "outputId": "69fa16bc-f197-4ec0-d117-06349ece2203"
      },
      "execution_count": null,
      "outputs": [
        {
          "output_type": "stream",
          "name": "stdout",
          "text": [
            "enter your age 100\n",
            "Your are eligible for voting \n"
          ]
        }
      ]
    },
    {
      "cell_type": "code",
      "source": [],
      "metadata": {
        "id": "axU6eMWMwQcF"
      },
      "execution_count": null,
      "outputs": []
    },
    {
      "cell_type": "markdown",
      "source": [
        "3. Develop a program to find the maximum of two numbers using if-else statements.\n",
        "\n",
        "\n",
        "\n"
      ],
      "metadata": {
        "id": "Lu9FkRJqxO5d"
      }
    },
    {
      "cell_type": "code",
      "source": [
        "def maximum(a,b):\n",
        "    if a>=b:\n",
        "        return a\n",
        "    else:\n",
        "        return b"
      ],
      "metadata": {
        "id": "asAjti_zxisU"
      },
      "execution_count": null,
      "outputs": []
    },
    {
      "cell_type": "code",
      "source": [
        "maximum(1000,400)"
      ],
      "metadata": {
        "colab": {
          "base_uri": "https://localhost:8080/"
        },
        "id": "e6g-WBtNzIO4",
        "outputId": "c85666f0-881b-45d0-f03d-f4d1e57a0794"
      },
      "execution_count": null,
      "outputs": [
        {
          "output_type": "execute_result",
          "data": {
            "text/plain": [
              "1000"
            ]
          },
          "metadata": {},
          "execution_count": 10
        }
      ]
    },
    {
      "cell_type": "code",
      "source": [],
      "metadata": {
        "id": "3TlzehL4zLSu"
      },
      "execution_count": null,
      "outputs": []
    },
    {
      "cell_type": "markdown",
      "source": [
        "4.Write a Python script to classify a given year as a leap year or not."
      ],
      "metadata": {
        "id": "7qhibeQqzUzP"
      }
    },
    {
      "cell_type": "code",
      "source": [
        "def check_leap(year):\n",
        "    if (year%4==0 or year%100):\n",
        "        print(\"--->The year you have inputed is leap year<---\")\n",
        "    else:\n",
        "        print(\"--->The year you have entered is not leap year<---\")\n"
      ],
      "metadata": {
        "id": "uCAfrci6zXVe"
      },
      "execution_count": null,
      "outputs": []
    },
    {
      "cell_type": "code",
      "source": [
        "check_leap(2014)"
      ],
      "metadata": {
        "colab": {
          "base_uri": "https://localhost:8080/"
        },
        "id": "8I99LwfO0uia",
        "outputId": "700a294d-3246-41a0-90ef-90d9795658c3"
      },
      "execution_count": null,
      "outputs": [
        {
          "output_type": "stream",
          "name": "stdout",
          "text": [
            "The year you have inputed is leap year\n"
          ]
        }
      ]
    },
    {
      "cell_type": "code",
      "source": [],
      "metadata": {
        "id": "bTHKfz5b0w_w"
      },
      "execution_count": null,
      "outputs": []
    },
    {
      "cell_type": "markdown",
      "source": [
        "5.Create a program that checks whether a character is a vowel or a consonant."
      ],
      "metadata": {
        "id": "WI4K-JMT1xNo"
      }
    },
    {
      "cell_type": "code",
      "source": [
        "def check_vowel(char):\n",
        "    vowel=['a','e','i','o','u','A','E','I','O','U']\n",
        "    if char in vowel:\n",
        "        print(\"The char you have entered is vowel\")\n",
        "    else:\n",
        "         print(\"the char you have entered is consonant\")\n",
        "    return char\n"
      ],
      "metadata": {
        "id": "J766K_hm11rN"
      },
      "execution_count": null,
      "outputs": []
    },
    {
      "cell_type": "code",
      "source": [
        "check_vowel('A')"
      ],
      "metadata": {
        "colab": {
          "base_uri": "https://localhost:8080/",
          "height": 54
        },
        "id": "jYBlHSAC401r",
        "outputId": "5009b236-85f4-4b8d-9851-5750634b2f9d"
      },
      "execution_count": null,
      "outputs": [
        {
          "output_type": "stream",
          "name": "stdout",
          "text": [
            "The char you have entered is vowel\n"
          ]
        },
        {
          "output_type": "execute_result",
          "data": {
            "text/plain": [
              "'A'"
            ],
            "application/vnd.google.colaboratory.intrinsic+json": {
              "type": "string"
            }
          },
          "metadata": {},
          "execution_count": 38
        }
      ]
    },
    {
      "cell_type": "code",
      "source": [],
      "metadata": {
        "id": "0WdfKnaa46o5"
      },
      "execution_count": null,
      "outputs": []
    },
    {
      "cell_type": "markdown",
      "source": [
        "6. Implement a program to determine whether a given number is even or odd"
      ],
      "metadata": {
        "id": "gFpZ4Lvj-bnr"
      }
    },
    {
      "cell_type": "code",
      "source": [
        "def check_even(num):\n",
        "    if num%2==0:\n",
        "        print(\"The entered number is even \")\n",
        "    else:\n",
        "        print(\"The entered number is odd \")\n",
        "    return num"
      ],
      "metadata": {
        "id": "F3H3xfum-f88"
      },
      "execution_count": null,
      "outputs": []
    },
    {
      "cell_type": "code",
      "source": [
        "check_even(122)"
      ],
      "metadata": {
        "colab": {
          "base_uri": "https://localhost:8080/"
        },
        "id": "f4QY_Qjj-lIr",
        "outputId": "381c358d-f2b1-468d-a3cf-659495e5bde9"
      },
      "execution_count": null,
      "outputs": [
        {
          "output_type": "stream",
          "name": "stdout",
          "text": [
            "The entered number is even \n"
          ]
        },
        {
          "output_type": "execute_result",
          "data": {
            "text/plain": [
              "122"
            ]
          },
          "metadata": {},
          "execution_count": 42
        }
      ]
    },
    {
      "cell_type": "code",
      "source": [
        "check_even(123)"
      ],
      "metadata": {
        "colab": {
          "base_uri": "https://localhost:8080/"
        },
        "id": "wlp6sOXd-4eD",
        "outputId": "1174b3c9-3ed4-4cf7-dbb4-6f2a0dd5cdd9"
      },
      "execution_count": null,
      "outputs": [
        {
          "output_type": "stream",
          "name": "stdout",
          "text": [
            "The entered number is odd \n"
          ]
        },
        {
          "output_type": "execute_result",
          "data": {
            "text/plain": [
              "123"
            ]
          },
          "metadata": {},
          "execution_count": 43
        }
      ]
    },
    {
      "cell_type": "code",
      "source": [],
      "metadata": {
        "id": "JlXuRrs6-_Sb"
      },
      "execution_count": null,
      "outputs": []
    },
    {
      "cell_type": "markdown",
      "source": [
        "7.Write a Python function to calculate the absolute value of a number without using the `abs()` function."
      ],
      "metadata": {
        "id": "R9opfxbY_Buj"
      }
    },
    {
      "cell_type": "code",
      "source": [],
      "metadata": {
        "id": "-iW6evNb_DGz"
      },
      "execution_count": null,
      "outputs": []
    }
  ]
}