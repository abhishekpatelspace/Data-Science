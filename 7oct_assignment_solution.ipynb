{
  "cells": [
    {
      "cell_type": "markdown",
      "metadata": {
        "id": "view-in-github",
        "colab_type": "text"
      },
      "source": [
        "<a href=\"https://colab.research.google.com/github/abhishekpatelspace/Data-Science/blob/main/7oct_assignment_solution.ipynb\" target=\"_parent\"><img src=\"https://colab.research.google.com/assets/colab-badge.svg\" alt=\"Open In Colab\"/></a>"
      ]
    },
    {
      "cell_type": "markdown",
      "metadata": {
        "id": "c4N6Cz04wODt"
      },
      "source": [
        "**Problem 1: Bank Account Create a class representing a bank account with attributes like account number, account holder name, and balance. Implement methods to deposit and withdraw money from the account.**\n"
      ]
    },
    {
      "cell_type": "code",
      "execution_count": null,
      "metadata": {
        "id": "E_m2NnWdwNxz"
      },
      "outputs": [],
      "source": [
        "class Bank_Account:\n",
        "    def __init__(self,account_num,ac_holder,balance=0.0):\n",
        "        self.account_num=account_num\n",
        "        self.ac_holder=ac_holder\n",
        "        self.balance=balance\n",
        "\n",
        "    def deposit(self,amount):\n",
        "        if amount<=0:\n",
        "            raise ValueError(\"Deposit amount must be greater than zero\")\n",
        "        self.balance+=amount\n",
        "        print(f'(amount deposited in your account is ${amount} and currently available balance is ${self.balance})')\n",
        "\n",
        "    def withdraw(self,amount):\n",
        "        if amount<=0:\n",
        "            raise ValueError(\"Amount less than or equal to zero can not be deposited\")\n",
        "        self.balance-=amount\n",
        "        print(f'(amount withdrawal from account is ${amount} and available balance is ${self.balance})')\n"
      ]
    },
    {
      "cell_type": "code",
      "execution_count": null,
      "metadata": {
        "id": "5NfZ6H3hwDdz"
      },
      "outputs": [],
      "source": [
        "money=Bank_Account(9713478478,\"Anandi patel\",4000.0)"
      ]
    },
    {
      "cell_type": "code",
      "execution_count": null,
      "metadata": {
        "colab": {
          "background_save": true,
          "base_uri": "https://localhost:8080/"
        },
        "id": "hT-aNYbf3Ame",
        "outputId": "9c7dc04c-fc20-4130-c5a0-7ddd62694c06"
      },
      "outputs": [
        {
          "name": "stdout",
          "output_type": "stream",
          "text": [
            "(amount deposited in your account is $6000 and currently available balance is $10000.0)\n"
          ]
        }
      ],
      "source": [
        "money.deposit(6000)"
      ]
    },
    {
      "cell_type": "code",
      "execution_count": null,
      "metadata": {
        "id": "Oet4QO2J3HOu"
      },
      "outputs": [],
      "source": [
        "money.withdraw(10000)"
      ]
    },
    {
      "cell_type": "code",
      "execution_count": null,
      "metadata": {
        "colab": {
          "background_save": true
        },
        "id": "xsz2JPQj3e8n"
      },
      "outputs": [],
      "source": []
    },
    {
      "cell_type": "markdown",
      "metadata": {
        "id": "xDiWulY-OJkk"
      },
      "source": [
        "**Problem 2: Employee Management Create a class representing an employee with attributes like employee ID, name, and salary. Implement methods to calculate the yearly bonus and display employee details.**"
      ]
    },
    {
      "cell_type": "code",
      "execution_count": null,
      "metadata": {
        "id": "GyR31_6cOMgU"
      },
      "outputs": [],
      "source": [
        "class emp_manage:\n",
        "\n",
        "    def __init__(self,employee_id,emp_name,salary):\n",
        "        self.employee_id=employee_id\n",
        "        self.emp_name=emp_name\n",
        "        self.salary=salary\n",
        "    def calculate_bonous(self,bonus_percentage):\n",
        "        bonus=self.salary*(bonus_percentage/100)\n",
        "        return bonus\n",
        "\n",
        "    def display_details(self):\n",
        "        print(f'the employee id is {self.employee_id}')\n",
        "        print(f'the employee name is {self.emp_name}')\n",
        "        print(f'the employee salary is {self.salary}')\n",
        "\n",
        "\n",
        "\n",
        "\n",
        "\n",
        "\n",
        "\n",
        "\n"
      ]
    },
    {
      "cell_type": "code",
      "execution_count": null,
      "metadata": {
        "id": "EuCZu953ON3G"
      },
      "outputs": [],
      "source": [
        "employee=emp_manage(\"ZS635737\",\"rahul patel\",1000000)"
      ]
    },
    {
      "cell_type": "code",
      "execution_count": null,
      "metadata": {
        "colab": {
          "base_uri": "https://localhost:8080/"
        },
        "id": "eZEI6ZwhONyW",
        "outputId": "0033c7f1-0573-4fdd-f3d4-5c6b761ac19b"
      },
      "outputs": [
        {
          "data": {
            "text/plain": [
              "50000.0"
            ]
          },
          "execution_count": 7,
          "metadata": {},
          "output_type": "execute_result"
        }
      ],
      "source": [
        "employee.calculate_bonous(5)"
      ]
    },
    {
      "cell_type": "code",
      "execution_count": null,
      "metadata": {
        "colab": {
          "base_uri": "https://localhost:8080/"
        },
        "id": "ovhUHSD4ONpY",
        "outputId": "706542ce-437f-4d24-ee40-ed017d891c89"
      },
      "outputs": [
        {
          "name": "stdout",
          "output_type": "stream",
          "text": [
            "the employee id is ZS635737\n",
            "the employee name is rahul patel\n",
            "the employee salary is 1000000\n"
          ]
        }
      ],
      "source": [
        "employee.display_details()"
      ]
    },
    {
      "cell_type": "code",
      "execution_count": null,
      "metadata": {
        "id": "TI0y_0HwUXBT"
      },
      "outputs": [],
      "source": []
    },
    {
      "cell_type": "code",
      "execution_count": null,
      "metadata": {
        "id": "rmlD0xbuUuM3"
      },
      "outputs": [],
      "source": []
    },
    {
      "cell_type": "markdown",
      "metadata": {
        "id": "1dJh3LCMUwNx"
      },
      "source": [
        "**Problem 3: Vehicle Rental Create a class representing a vehicle rental system. Implement methods to rent a vehicle, return a vehicle, and display available vehicles.**"
      ]
    },
    {
      "cell_type": "code",
      "execution_count": null,
      "metadata": {
        "id": "iiewCORxU1Mi"
      },
      "outputs": [],
      "source": [
        "class Vehicle:\n",
        "    def __init__(self,company,model):\n",
        "        self.company=company\n",
        "        self.model=model\n",
        "        self.is_rented=False #Indicates if the vehicle is currently rented\n",
        "\n",
        "    def __str__(self):\n",
        "        rental_status=\"Rented\" if self.is_rented else \"Available\"\n",
        "        return f\"{self.company} {self.model} - {rental_status}\"\n",
        "\n",
        "class Rental_system:\n",
        "    def __init__(self):\n",
        "        self.vehicles=[]\n",
        "\n",
        "    def add_vehicle(self,vehicle):\n",
        "        if not isinstance(vehicle,Vehicle):\n",
        "            raise TypeError(\"Only vehicle instances can be added to the rental system.\")\n",
        "        self.vehicles.append(vehicle)\n",
        "        print(f\"Added {vehicle} to the rental system.\")\n",
        "\n",
        "    def rent_vehicle(self, company, model):\n",
        "        for vehicle in self.vehicles:\n",
        "            if vehicle.company ==company and vehicle.model == model and not vehicle.is_rented:\n",
        "                vehicle.is_rented = True\n",
        "                print(f\"You have rented {vehicle}.\")\n",
        "                return vehicle\n",
        "        print(f\"Sorry, the vehicle '{company} {model}' is either not available or already rented.\")\n",
        "        return None\n",
        "\n",
        "    def return_vehicle(self, company, model):\n",
        "        for vehicle in self.vehicles:\n",
        "            if vehicle.company == company and vehicle.model == model and vehicle.is_rented:\n",
        "                vehicle.is_rented = False\n",
        "                print(f\"You have returned {vehicle}.\")\n",
        "                return\n",
        "        print(f\"Sorry, the vehicle '{company} {model}' was not rented from this system.\")\n",
        "\n",
        "\n",
        "\n",
        "\n",
        "\n",
        "\n",
        "    def display_available_vehicles(self):\n",
        "        available_vehicles=[str(vehicle) for vehicle in self.vehicles if not vehicle.is_rented]\n",
        "        if available_vehicles:\n",
        "            print(\"Available vehicles:\")\n",
        "            for vehicle in available_vehicles:\n",
        "                print(f\"-{vehicle}\")\n",
        "\n",
        "        else:\n",
        "            print(\"No vehicles are available at the moment.\")\n"
      ]
    },
    {
      "cell_type": "code",
      "source": [
        "vehicle1=Vehicle(\"tata\",\"nexon\")\n",
        "vehicle2=Vehicle(\"mg\",\"hector\")\n",
        "vehicle3=Vehicle(\"volvo\",\"xc60\")\n",
        "vehicle4=Vehicle(\"tata\",\"safari\")\n",
        "vehicle5=Vehicle(\"mahindra\",\"scorpio\")"
      ],
      "metadata": {
        "id": "dbsR6dnw1-50"
      },
      "execution_count": null,
      "outputs": []
    },
    {
      "cell_type": "code",
      "execution_count": null,
      "metadata": {
        "id": "GFM4fBTFnjQC"
      },
      "outputs": [],
      "source": [
        "rental_system=Rental_system()"
      ]
    },
    {
      "cell_type": "code",
      "source": [
        "rental_system.add_vehicle(vehicle1)\n",
        "rental_system.add_vehicle(vehicle2)\n",
        "rental_system.add_vehicle(vehicle3)\n",
        "rental_system.add_vehicle(vehicle4)\n",
        "rental_system.add_vehicle(vehicle5)"
      ],
      "metadata": {
        "colab": {
          "base_uri": "https://localhost:8080/"
        },
        "id": "6LO3xw9AvWRl",
        "outputId": "6a6ac955-5a42-4e45-afcb-344542764fb6"
      },
      "execution_count": null,
      "outputs": [
        {
          "output_type": "stream",
          "name": "stdout",
          "text": [
            "Added tata nexon - Available to the rental system.\n",
            "Added mg hector - Available to the rental system.\n",
            "Added volvo xc60 - Available to the rental system.\n",
            "Added tata safari - Available to the rental system.\n",
            "Added mahindra scorpio - Available to the rental system.\n"
          ]
        }
      ]
    },
    {
      "cell_type": "code",
      "source": [
        "rental_system.display_available_vehicles()"
      ],
      "metadata": {
        "colab": {
          "base_uri": "https://localhost:8080/"
        },
        "id": "QHfeVhP3vWMQ",
        "outputId": "cd8e71d2-3a32-4903-b82a-5d9f90afdf85"
      },
      "execution_count": null,
      "outputs": [
        {
          "output_type": "stream",
          "name": "stdout",
          "text": [
            "Available vehicles:\n",
            "-tata nexon - Available\n",
            "-mg hector - Available\n",
            "-volvo xc60 - Available\n",
            "-tata safari - Available\n",
            "-mahindra scorpio - Available\n"
          ]
        }
      ]
    },
    {
      "cell_type": "code",
      "source": [
        "rental_system.rent_vehicle(\"mahindra\",\"scorpio\")"
      ],
      "metadata": {
        "colab": {
          "base_uri": "https://localhost:8080/"
        },
        "id": "W0g6azhjvWJm",
        "outputId": "7d65457b-7480-4149-e15a-28dad04ed838"
      },
      "execution_count": null,
      "outputs": [
        {
          "output_type": "stream",
          "name": "stdout",
          "text": [
            "You have rented mahindra scorpio - Rented.\n"
          ]
        },
        {
          "output_type": "execute_result",
          "data": {
            "text/plain": [
              "<__main__.Vehicle at 0x7b3081f4fbb0>"
            ]
          },
          "metadata": {},
          "execution_count": 56
        }
      ]
    },
    {
      "cell_type": "code",
      "source": [
        "rental_system.display_available_vehicles()"
      ],
      "metadata": {
        "colab": {
          "base_uri": "https://localhost:8080/"
        },
        "id": "Iy4vr3gLvWHD",
        "outputId": "8bf94904-b99a-401e-a6d5-a9381a1f8959"
      },
      "execution_count": null,
      "outputs": [
        {
          "output_type": "stream",
          "name": "stdout",
          "text": [
            "Available vehicles:\n",
            "-tata nexon - Available\n",
            "-mg hector - Available\n",
            "-volvo xc60 - Available\n",
            "-tata safari - Available\n"
          ]
        }
      ]
    },
    {
      "cell_type": "code",
      "source": [],
      "metadata": {
        "id": "ExqZRFqZvWE2"
      },
      "execution_count": null,
      "outputs": []
    },
    {
      "cell_type": "code",
      "source": [],
      "metadata": {
        "id": "LJSub0s2vWCL"
      },
      "execution_count": null,
      "outputs": []
    },
    {
      "cell_type": "code",
      "source": [],
      "metadata": {
        "id": "3AYAGrasvV-8"
      },
      "execution_count": null,
      "outputs": []
    },
    {
      "cell_type": "code",
      "source": [],
      "metadata": {
        "id": "7CI3ShzUvV7Y"
      },
      "execution_count": null,
      "outputs": []
    },
    {
      "cell_type": "markdown",
      "metadata": {
        "id": "hZdjLpvIn0PI"
      },
      "source": [
        "**Problem 4: Library Catalog Create classes representing a library and a book. Implement methods to add books to the library, borrow books, and display available books.**"
      ]
    },
    {
      "cell_type": "code",
      "execution_count": null,
      "metadata": {
        "id": "kESwSvv9n5W2"
      },
      "outputs": [],
      "source": [
        "class Book:\n",
        "    def __init__(self,title,author):\n",
        "        self.title=title\n",
        "        self.author=author\n",
        "        self.is_borrowed=False\n",
        "\n",
        "\n",
        "    def __str__(self):\n",
        "        return f\"'{self.title}' by {self.author}\"\n",
        "\n",
        "class Library:\n",
        "    def __init__(self):\n",
        "        self.books=[]\n",
        "\n",
        "    def add_book(self,book):\n",
        "        if not isinstance(book,Book):\n",
        "            raise TypeError(\"Only Book instance can be added to the library.\")\n",
        "        self.books.append(book)\n",
        "        print(f\"Added {book} to the library\")\n",
        "\n",
        "    def borrow_book(self,title):\n",
        "        for book in self.books:\n",
        "            if book.title==title and not book.is_borrowed:\n",
        "                book.is_borrowed =True\n",
        "                print(f\"you have borrowed {book}.\")\n",
        "                return book\n",
        "        else:\n",
        "            print(f\"sorry,the book '{title}' is either not available or already borrowed. \")\n",
        "            return None\n",
        "\n",
        "\n",
        "\n",
        "\n",
        "    def return_book(self,title):\n",
        "        for book in self.books:\n",
        "            if book.title==title and book.is_borrowed:\n",
        "                book.is_borrowed=False\n",
        "                print(f\"You have returned {book}.\")\n",
        "                return\n",
        "        else:\n",
        "            print(f\"Sorry, the book '{title}' was not borrowed from library .\")\n",
        "\n",
        "\n",
        "\n",
        "    def display_available_books(self):\n",
        "        available_books=[str(book) for book in self.books if not book.is_borrowed]\n",
        "        if available_books:\n",
        "            print(\"Available books:\")\n",
        "            for book in available_books:\n",
        "                print(f\"- {book}\")\n",
        "\n",
        "        else:\n",
        "            print(\"No books are available at the moment.\")\n",
        "\n"
      ]
    },
    {
      "cell_type": "code",
      "source": [
        "my_library=Library()\n",
        "book1=Book(\"To kill a Mockingbird \",\"Harper Lee\")\n",
        "book2=Book(\"godan \",\"munsi premchand\")\n",
        "book3=Book(\"ramayan\",\"valmiki\")\n",
        "book4=Book(\"mahabharat\",\"vedvyas\")\n",
        "my_library.add_book(book1)\n",
        "my_library.add_book(book2)\n",
        "my_library.add_book(book3)\n",
        "my_library.add_book(book4)\n",
        "my_library.display_available_books()"
      ],
      "metadata": {
        "colab": {
          "base_uri": "https://localhost:8080/"
        },
        "id": "Mt5nSV4W3hvY",
        "outputId": "3fbf6c20-1e72-4556-ff63-22c51975dd9b"
      },
      "execution_count": null,
      "outputs": [
        {
          "output_type": "stream",
          "name": "stdout",
          "text": [
            "Added 'To kill a Mockingbird ' by Harper Lee to the library\n",
            "Added 'godan ' by munsi premchand to the library\n",
            "Added 'ramayan' by valmiki to the library\n",
            "Added 'mahabharat' by vedvyas to the library\n",
            "Available books:\n",
            "- 'To kill a Mockingbird ' by Harper Lee\n",
            "- 'godan ' by munsi premchand\n",
            "- 'ramayan' by valmiki\n",
            "- 'mahabharat' by vedvyas\n"
          ]
        }
      ]
    },
    {
      "cell_type": "code",
      "source": [
        "my_library.borrow_book(\"ramayan\")\n",
        "my_library.display_available_books()"
      ],
      "metadata": {
        "colab": {
          "base_uri": "https://localhost:8080/"
        },
        "id": "SzSvgMHg4F-W",
        "outputId": "8efbd23c-75e8-46cf-d2fd-3d7ec2fae127"
      },
      "execution_count": null,
      "outputs": [
        {
          "output_type": "stream",
          "name": "stdout",
          "text": [
            "you have borrowed 'ramayan' by valmiki.\n",
            "Available books:\n",
            "- 'To kill a Mockingbird ' by Harper Lee\n",
            "- 'godan ' by munsi premchand\n",
            "- 'mahabharat' by vedvyas\n"
          ]
        }
      ]
    },
    {
      "cell_type": "code",
      "source": [
        "\n",
        "my_library.return_book(\"ramayan\")\n",
        "my_library.display_available_books()"
      ],
      "metadata": {
        "colab": {
          "base_uri": "https://localhost:8080/"
        },
        "id": "3XOOWsjh3naS",
        "outputId": "fe868d13-b737-4404-cc2e-76804421b6c0"
      },
      "execution_count": null,
      "outputs": [
        {
          "output_type": "stream",
          "name": "stdout",
          "text": [
            "You have returned 'ramayan' by valmiki.\n",
            "Available books:\n",
            "- 'To kill a Mockingbird ' by Harper Lee\n",
            "- 'godan ' by munsi premchand\n",
            "- 'ramayan' by valmiki\n",
            "- 'mahabharat' by vedvyas\n"
          ]
        }
      ]
    },
    {
      "cell_type": "code",
      "execution_count": null,
      "metadata": {
        "id": "MqUT8NV0pmXa"
      },
      "outputs": [],
      "source": []
    },
    {
      "cell_type": "code",
      "execution_count": null,
      "metadata": {
        "colab": {
          "background_save": true
        },
        "id": "TapIA4CDlF3P"
      },
      "outputs": [],
      "source": []
    },
    {
      "cell_type": "markdown",
      "source": [
        "**Problem 5: Product Inventory Create classes representing a product and an inventory system. Implement methods to add products to the inventory, update product quantity, and display available products.**"
      ],
      "metadata": {
        "id": "3Sb7KxAKZSu-"
      }
    },
    {
      "cell_type": "code",
      "source": [],
      "metadata": {
        "id": "kAVRzsCFZVGE"
      },
      "execution_count": null,
      "outputs": []
    },
    {
      "cell_type": "code",
      "source": [
        "class Product:\n",
        "    def __init__(self,product_id,name,price,quantity):\n",
        "        self.product_id=product_id\n",
        "        self.name=name\n",
        "        self.price=price\n",
        "        self.quantity=quantity\n",
        "\n",
        "    def update_quantity(self,quantity):\n",
        "        self.quantity=+quantity\n",
        "\n",
        "    def __str__(self):\n",
        "        return f\"ID: {self.product_id},Name: {self.name},Price : ${self.price:},Quantity : {self.quantity}\"\n",
        "\n",
        "class Inventory:\n",
        "    def __init__(self):\n",
        "        self.products={}\n",
        "\n",
        "    def add_product(self,product):\n",
        "        if product.product_id in self.products:\n",
        "            print(f\"product with ID {product.product_id},already exists.Updating quantity\")\n",
        "            self.products[product.product_id].update_quantity(product.quantity)\n",
        "        else:\n",
        "            self.products[product.product_id]=product\n",
        "            print(f\"Product {product.name} added to inventory.\")\n",
        "\n",
        "    def update_product_quantity(self,product_id,quantity):\n",
        "        if product_id in self.products:\n",
        "            self.products[product_id].update_quantity(quantity)\n",
        "            print(f\"update quantity for product ID {product_id}.\")\n",
        "        else:\n",
        "            print(f\"product with ID {product_id} not found in inventory.\")\n",
        "\n",
        "    def display_products(self):\n",
        "        if not self.products:\n",
        "            print(\"No products in inventory\")\n",
        "        else:\n",
        "            for product in self.products.values():\n",
        "                print(product)\n"
      ],
      "metadata": {
        "id": "d2DBx1oxZvwP"
      },
      "execution_count": null,
      "outputs": []
    },
    {
      "cell_type": "code",
      "source": [
        "inventory=Inventory()"
      ],
      "metadata": {
        "id": "c7EpeKag0Ueu"
      },
      "execution_count": null,
      "outputs": []
    },
    {
      "cell_type": "code",
      "source": [
        "product1=Product(1,\"apple\",100,10)\n",
        "product2=Product(2,\"HP\",40,10)\n",
        "product3=Product(3,\"samsung\",1000,10)"
      ],
      "metadata": {
        "id": "R4JZxCxw0UaB"
      },
      "execution_count": null,
      "outputs": []
    },
    {
      "cell_type": "code",
      "source": [
        "inventory.add_product(product1)\n",
        "inventory.add_product(product2)\n",
        "inventory.add_product(product3)"
      ],
      "metadata": {
        "colab": {
          "base_uri": "https://localhost:8080/"
        },
        "id": "vGseoMgG0UTY",
        "outputId": "26606e90-474e-4e4f-d34c-04443384e648"
      },
      "execution_count": null,
      "outputs": [
        {
          "output_type": "stream",
          "name": "stdout",
          "text": [
            "Product apple added to inventory.\n",
            "Product HP added to inventory.\n",
            "Product samsung added to inventory.\n"
          ]
        }
      ]
    },
    {
      "cell_type": "code",
      "source": [
        "inventory.display_products()"
      ],
      "metadata": {
        "colab": {
          "base_uri": "https://localhost:8080/"
        },
        "id": "eo9U2ctr0UOZ",
        "outputId": "a52279ef-70e9-4c00-bbe9-68ba7ac66175"
      },
      "execution_count": null,
      "outputs": [
        {
          "output_type": "stream",
          "name": "stdout",
          "text": [
            "ID: 1,Name: apple,Price : $100,Quantity : 10\n",
            "ID: 2,Name: HP,Price : $40,Quantity : 10\n",
            "ID: 3,Name: samsung,Price : $1000,Quantity : 10\n"
          ]
        }
      ]
    },
    {
      "cell_type": "code",
      "source": [],
      "metadata": {
        "id": "1_3tOhA-0UIx"
      },
      "execution_count": null,
      "outputs": []
    },
    {
      "cell_type": "code",
      "source": [
        "a=10 % 3\n",
        "print(a)"
      ],
      "metadata": {
        "colab": {
          "base_uri": "https://localhost:8080/"
        },
        "id": "NyZ4LlQSwNkg",
        "outputId": "39c40488-a8bf-4be8-c257-1e791dcb020e"
      },
      "execution_count": null,
      "outputs": [
        {
          "output_type": "stream",
          "name": "stdout",
          "text": [
            "1\n"
          ]
        }
      ]
    },
    {
      "cell_type": "code",
      "source": [],
      "metadata": {
        "id": "2yhI2ROlwSVJ"
      },
      "execution_count": null,
      "outputs": []
    },
    {
      "cell_type": "markdown",
      "source": [
        "**Problem 6: Shape Calculation Create a class representing a shape with attributes like length, width, and height. Implement methods to calculate the area and perimeter of the shape.**"
      ],
      "metadata": {
        "id": "LXupeHvj4a3K"
      }
    },
    {
      "cell_type": "code",
      "source": [
        "class Shape:\n",
        "    def __init__(self,length,width,height=0):\n",
        "        self.length=length\n",
        "        self.width=width\n",
        "        self.height=height\n",
        "\n",
        "    def area(self):\n",
        "        #For a rectangle,the area is length*width .b\n",
        "        #if height is provided it will give us the area of cuboid\n",
        "        if self.height==0:\n",
        "            return self.length*self.width\n",
        "        else:\n",
        "            return 2*(self.length*self.width+self.width*self.height+self.height*self.length)\n",
        "\n",
        "    def perimeter(self):\n",
        "        #for a rectangle 2D the perimeter is 2*(length*width)\n",
        "        #if height is provided , the perimeter calculaton is less standard:we will return none\n",
        "        if self.height==0:\n",
        "            return 2*(self.length*self.width)\n",
        "        else:\n",
        "            return None\n",
        "\n"
      ],
      "metadata": {
        "id": "HKEHPmNw4dgb"
      },
      "execution_count": null,
      "outputs": []
    },
    {
      "cell_type": "code",
      "source": [],
      "metadata": {
        "id": "-oaLJhqA0Dto"
      },
      "execution_count": null,
      "outputs": []
    },
    {
      "cell_type": "code",
      "source": [
        "rectangle=Shape(length=5,width=3)\n",
        "rectangle.perimeter()\n",
        "rectangle.perimeter()\n",
        "print(f\"Rectangle Area :{rectangle.perimeter()}\")"
      ],
      "metadata": {
        "colab": {
          "base_uri": "https://localhost:8080/"
        },
        "id": "n3ZdKw2rsJYA",
        "outputId": "7216805a-0d80-46ee-9179-b4cf041abece"
      },
      "execution_count": null,
      "outputs": [
        {
          "output_type": "stream",
          "name": "stdout",
          "text": [
            "Rectangle Area :30\n"
          ]
        }
      ]
    },
    {
      "cell_type": "code",
      "source": [],
      "metadata": {
        "id": "3abc9x9gyZzg"
      },
      "execution_count": null,
      "outputs": []
    },
    {
      "cell_type": "code",
      "source": [
        "box = Shape(length=5,width=3, height=2)\n",
        "print(f\"Box Surface Area: {box.area()}\")\n",
        "print(f\"Box Perimeter: {box.perimeter()}\")"
      ],
      "metadata": {
        "colab": {
          "base_uri": "https://localhost:8080/"
        },
        "id": "SWProJoLtOgx",
        "outputId": "d58d40f7-36d0-415e-a9d3-f16d09873639"
      },
      "execution_count": null,
      "outputs": [
        {
          "output_type": "stream",
          "name": "stdout",
          "text": [
            "Box Surface Area: 62\n",
            "Box Perimeter: None\n"
          ]
        }
      ]
    },
    {
      "cell_type": "code",
      "source": [],
      "metadata": {
        "id": "zvO3dS2-ttw5"
      },
      "execution_count": null,
      "outputs": []
    },
    {
      "cell_type": "code",
      "source": [],
      "metadata": {
        "id": "qdArpHMBsUDL"
      },
      "execution_count": null,
      "outputs": []
    },
    {
      "cell_type": "markdown",
      "source": [
        "**Problem 7: Student Management Create a class representing a student with attributes like student ID, name, and grades. Implement methods to calculate the average grade and display student details.**"
      ],
      "metadata": {
        "id": "hHj7r42nsWMp"
      }
    },
    {
      "cell_type": "code",
      "source": [
        "class Student:\n",
        "    def __init__(self,student_id,name,grades):\n",
        "        self.student_id=student_id\n",
        "        self.name=name\n",
        "        self.grades=grades\n",
        "    def calculate_avaerage_grade(self):\n",
        "        if not self.grades:\n",
        "            return 0\n",
        "        else:\n",
        "            return sum(self.grades)/len(self.grades)\n",
        "\n",
        "    def display_student_details(self):\n",
        "        average_grade=self.calculate_avaerage_grade()\n",
        "        print(f\"student id is {self.student_id}\")\n",
        "        print(f\"student name is {self.name}\")\n",
        "        print(f\"Student grades are {self.grades}\")\n",
        "        print(f\"student Average Grade:{average_grade}\")\n"
      ],
      "metadata": {
        "id": "obUPBukJsZv4"
      },
      "execution_count": null,
      "outputs": []
    },
    {
      "cell_type": "code",
      "source": [
        "student=Student(\"0863EC191002\",\"Abhishek\",[80,85,89,87,88,96])"
      ],
      "metadata": {
        "id": "PirCHrlAAa8o"
      },
      "execution_count": null,
      "outputs": []
    },
    {
      "cell_type": "code",
      "source": [
        "student.display_student_details()"
      ],
      "metadata": {
        "colab": {
          "base_uri": "https://localhost:8080/"
        },
        "id": "1YDXL8epAu39",
        "outputId": "57c1a238-8271-48c8-d86e-df9cfecec6a1"
      },
      "execution_count": null,
      "outputs": [
        {
          "output_type": "stream",
          "name": "stdout",
          "text": [
            "student id is 0863EC191002\n",
            "student name is Abhishek\n",
            "Student grades are [80, 85, 89, 87, 88, 96]\n",
            "student Average Grade:87.5\n"
          ]
        }
      ]
    },
    {
      "cell_type": "code",
      "source": [
        "student1=Student(\"0863EC191004\",\"Anjali\",[60,65,64,63,68])"
      ],
      "metadata": {
        "id": "vlyIWK5VA48W"
      },
      "execution_count": null,
      "outputs": []
    },
    {
      "cell_type": "code",
      "source": [
        "student1.display_student_details()"
      ],
      "metadata": {
        "colab": {
          "base_uri": "https://localhost:8080/"
        },
        "id": "EnZWAnojBL8e",
        "outputId": "a66c1b74-3653-46d0-a18f-0fd45c72438d"
      },
      "execution_count": null,
      "outputs": [
        {
          "output_type": "stream",
          "name": "stdout",
          "text": [
            "student id is 0863EC191004\n",
            "student name is Anjali\n",
            "Student grades are [60, 65, 64, 63, 68]\n",
            "student Average Grade:64.0\n"
          ]
        }
      ]
    },
    {
      "cell_type": "code",
      "source": [],
      "metadata": {
        "id": "Z7WzEjuWBSqO"
      },
      "execution_count": null,
      "outputs": []
    },
    {
      "cell_type": "code",
      "source": [],
      "metadata": {
        "id": "071giz_lH3uz"
      },
      "execution_count": null,
      "outputs": []
    },
    {
      "cell_type": "markdown",
      "source": [
        "**Problem 8: Email Management Create a class representing an email with attributes like sender, recipient, and subject. Implement methods to send an email and display email details.**"
      ],
      "metadata": {
        "id": "7ihxwbKhJ0uj"
      }
    },
    {
      "cell_type": "code",
      "source": [
        "class Email:\n",
        "    def __init__(self,sender,recipient,subject,body=\"\"):\n",
        "        self.sender=sender\n",
        "        self.recipient=recipient\n",
        "        self.subject=subject\n",
        "        self.body=body\n",
        "\n",
        "    def send(self):\n",
        "        print(f\"Sending email from {self.sender} to {self.recipient}\")\n",
        "        print(f\"Subject:{self.subject}\")\n",
        "        print(f\"Body:{self.body}\")\n",
        "\n",
        "    def email_info(self):\n",
        "        #displaying the details of email\n",
        "        print(\"Email details\")\n",
        "        print(f\"From:{self.sender}\")\n",
        "        print(f\"To:{self.recipient}\")\n",
        "        print(f\"Subject:{self.subject} \")\n",
        "        print(f\"Body:{self.body}\")\n",
        "\n"
      ],
      "metadata": {
        "id": "zUkKU84bH5U_"
      },
      "execution_count": null,
      "outputs": []
    },
    {
      "cell_type": "code",
      "source": [
        "email=Email(\"abhishekspace@gmail.com\",\"prince@gmail.com\",\"Interview reminder\",\"Dont forget to attend virtual interview at 7:00 pm\")"
      ],
      "metadata": {
        "id": "UQUCxUSjTPul"
      },
      "execution_count": null,
      "outputs": []
    },
    {
      "cell_type": "code",
      "source": [
        "email.send()"
      ],
      "metadata": {
        "colab": {
          "base_uri": "https://localhost:8080/"
        },
        "id": "3wcHHrMBTQJl",
        "outputId": "70afd38e-0638-4d97-860e-7509334f1195"
      },
      "execution_count": null,
      "outputs": [
        {
          "output_type": "stream",
          "name": "stdout",
          "text": [
            "Sending email from abhishekspace@gmail.com to prince@gmail.com\n",
            "Subject:Interview reminder\n",
            "Body:Dont forget to attend virtual interview at 7:00 pm\n"
          ]
        }
      ]
    },
    {
      "cell_type": "code",
      "source": [
        "email.email_info()"
      ],
      "metadata": {
        "colab": {
          "base_uri": "https://localhost:8080/"
        },
        "id": "nl8fK0a3WH42",
        "outputId": "ea30cc1c-a844-454f-e023-76f1c2289269"
      },
      "execution_count": null,
      "outputs": [
        {
          "output_type": "stream",
          "name": "stdout",
          "text": [
            "Email details\n",
            "From:abhishekspace@gmail.com\n",
            "To:prince@gmail.com\n",
            "Subject:Interview reminder \n",
            "Body:Dont forget to attend virtual interview at 7:00 pm\n"
          ]
        }
      ]
    },
    {
      "cell_type": "code",
      "source": [],
      "metadata": {
        "id": "Xg7ELbFCWOtl"
      },
      "execution_count": null,
      "outputs": []
    },
    {
      "cell_type": "code",
      "source": [],
      "metadata": {
        "id": "fDunkyarv9jn"
      },
      "execution_count": null,
      "outputs": []
    },
    {
      "cell_type": "markdown",
      "source": [
        "**Problem 9: Social Media Profile Create a class representing a social media profile with attributes like username and posts. Implement methods to add posts, display posts, and search for posts by keyword.**"
      ],
      "metadata": {
        "id": "4ytDlTOWv_Ue"
      }
    },
    {
      "cell_type": "code",
      "source": [
        "class SocialMediaProfile:\n",
        "    def __init__(self,username):\n",
        "        self.username=username\n",
        "        self.posts=[]\n",
        "\n",
        "    def add_posts(self,post_content):\n",
        "        self.posts.append(post_content)\n",
        "\n",
        "    def display_posts(self):\n",
        "        \"\"\"This will display all the posts from profile\"\"\"\n",
        "        if not self.posts:\n",
        "            print(\"No posts are available\")\n",
        "        else:\n",
        "            print(f\"post by {self.username}:\")\n",
        "            for idx,post in enumerate(self.posts,1):\n",
        "                print(f\"{idx}.{post}\")\n",
        "\n",
        "    def search_posts(self,keyword):\n",
        "        #we will serch post by using keyword present in posts\n",
        "        matching_posts=[post for post in self.posts if keyword.lower() in post.lower()]\n",
        "        if not matching_posts:\n",
        "            print(f\"No posts found with the keyword {keyword}\")\n",
        "        else:\n",
        "            print(f\"post containing keyword '{keyword}': \")\n",
        "            for idx,post in enumerate(matching_posts,1):\n",
        "                print(f\"{idx}.{post}\")\n"
      ],
      "metadata": {
        "id": "vmQASpfqwCPP"
      },
      "execution_count": null,
      "outputs": []
    },
    {
      "cell_type": "code",
      "source": [
        "user1=SocialMediaProfile(\"demo_ig\")\n",
        "user1.add_posts(\"Enjoying a sunny day at the beach!\")\n",
        "user1.add_posts(\"Just finished reading a great book\")\n",
        "user1.add_posts(\"Exciting about upcoming concert\")\n"
      ],
      "metadata": {
        "id": "gfxMI-3C4zcM"
      },
      "execution_count": null,
      "outputs": []
    },
    {
      "cell_type": "code",
      "source": [
        "user1.display_posts()"
      ],
      "metadata": {
        "colab": {
          "base_uri": "https://localhost:8080/"
        },
        "id": "NktW2LVS4zW6",
        "outputId": "27e3af23-3497-4b01-8de6-58e26234aef3"
      },
      "execution_count": null,
      "outputs": [
        {
          "output_type": "stream",
          "name": "stdout",
          "text": [
            "post by demo_ig:\n",
            "1.Enjoying a sunny day at the beach!\n",
            "2.Just finished reading a great book\n",
            "3.Exciting about upcoming concert\n"
          ]
        }
      ]
    },
    {
      "cell_type": "code",
      "source": [
        "user1.search_posts(\"book\")\n",
        "user1.search_posts(\"concert\")\n",
        "user1.search_posts(\"day\")"
      ],
      "metadata": {
        "id": "l6dNAc4240Hy",
        "colab": {
          "base_uri": "https://localhost:8080/"
        },
        "outputId": "9fb6915e-084d-487c-f650-04c518d63f3f"
      },
      "execution_count": null,
      "outputs": [
        {
          "output_type": "stream",
          "name": "stdout",
          "text": [
            "post containing keyword 'book': \n",
            "1.Just finished reading a great book\n",
            "post containing keyword 'concert': \n",
            "1.Exciting about upcoming concert\n",
            "post containing keyword 'day': \n",
            "1.Enjoying a sunny day at the beach!\n"
          ]
        }
      ]
    },
    {
      "cell_type": "code",
      "source": [],
      "metadata": {
        "id": "DwqVQpFakhwE"
      },
      "execution_count": null,
      "outputs": []
    },
    {
      "cell_type": "code",
      "source": [],
      "metadata": {
        "id": "Cc7I7N4Nk5C-"
      },
      "execution_count": null,
      "outputs": []
    },
    {
      "cell_type": "markdown",
      "source": [
        "**Problem 10: ToDo List Create a class representing a ToDo list with attributes like tasks and due dates. Implement methods to add tasks, mark tasks as completed, and display pending tasks.**"
      ],
      "metadata": {
        "id": "T0zfWnZEk5at"
      }
    },
    {
      "cell_type": "code",
      "source": [
        "from datetime import datetime\n",
        "class ToDoList:\n",
        "    def __init__(self):\n",
        "        self.tasks=[]\n",
        "\n",
        "    def add_task(self,task_description,due_date):\n",
        "        task={\n",
        "            'description':task_description,\n",
        "            'due_date':due_date,\n",
        "            'completed':False\n",
        "        }\n",
        "        self.tasks.append(task)\n",
        "    def mark_task_completed(self,task_index):\n",
        "        #marks a task as completed based on its index in the tasks list.\n",
        "        if 0<= task_index < len(self.tasks):\n",
        "            self.tasks[task_index]['completed']=True\n",
        "\n",
        "        else:\n",
        "            print(\"Task index out of range.\")\n",
        "\n",
        "    def display_pending_tasks(self):\n",
        "        pending_tasks=[task for task in self.tasks if not task['completed']]\n",
        "        if not pending_tasks:\n",
        "            print(\"No pending tasks.\")\n",
        "        else:\n",
        "            print(\"pending tasks:\")\n",
        "            for idx,task in enumerate(pending_tasks):\n",
        "                due_date=task['due_date'].strftime('%Y-%m-%d')\n",
        "                print(f\"{idx+1}.{task['description']} (Due:{due_date})\")\n",
        "\n",
        "\n"
      ],
      "metadata": {
        "id": "fPXeCn52k7sk"
      },
      "execution_count": null,
      "outputs": []
    },
    {
      "cell_type": "code",
      "source": [
        "todo_list=ToDoList()\n"
      ],
      "metadata": {
        "id": "99zCyjf8rJlm"
      },
      "execution_count": null,
      "outputs": []
    },
    {
      "cell_type": "code",
      "source": [
        "todo_list.add_task(\"Finish homework\",datetime(2024,9,15))\n",
        "todo_list.add_task(\"Buy groceries\",datetime(2024,9,16))\n",
        "todo_list.add_task(\"call the doctor\",datetime(2024,9,17))"
      ],
      "metadata": {
        "id": "9kZ6K00ftshI"
      },
      "execution_count": null,
      "outputs": []
    },
    {
      "cell_type": "code",
      "source": [
        "todo_list.display_pending_tasks()"
      ],
      "metadata": {
        "colab": {
          "base_uri": "https://localhost:8080/"
        },
        "id": "JTnSTENmuPjZ",
        "outputId": "098aa73c-e503-4916-fc87-f18839195213"
      },
      "execution_count": null,
      "outputs": [
        {
          "output_type": "stream",
          "name": "stdout",
          "text": [
            "pending tasks:\n",
            "1.Finish homework (Due:2024-09-15)\n",
            "2.Buy groceries (Due:2024-09-16)\n",
            "3.call the doctor (Due:2024-09-17)\n"
          ]
        }
      ]
    },
    {
      "cell_type": "code",
      "source": [
        "todo_list.mark_task_completed(0)"
      ],
      "metadata": {
        "id": "08-ui92YunKI"
      },
      "execution_count": null,
      "outputs": []
    },
    {
      "cell_type": "code",
      "source": [
        "todo_list.display_pending_tasks()"
      ],
      "metadata": {
        "colab": {
          "base_uri": "https://localhost:8080/"
        },
        "id": "UQg7k2U2u2PQ",
        "outputId": "56ece227-ad47-4c70-cbaa-6a942f00a5b9"
      },
      "execution_count": null,
      "outputs": [
        {
          "output_type": "stream",
          "name": "stdout",
          "text": [
            "pending tasks:\n",
            "1.Buy groceries (Due:2024-09-16)\n",
            "2.call the doctor (Due:2024-09-17)\n"
          ]
        }
      ]
    },
    {
      "cell_type": "code",
      "source": [],
      "metadata": {
        "id": "dpG1_Fsgvefj"
      },
      "execution_count": null,
      "outputs": []
    }
  ],
  "metadata": {
    "colab": {
      "provenance": [],
      "include_colab_link": true
    },
    "kernelspec": {
      "display_name": "Python 3",
      "name": "python3"
    },
    "language_info": {
      "name": "python"
    }
  },
  "nbformat": 4,
  "nbformat_minor": 0
}