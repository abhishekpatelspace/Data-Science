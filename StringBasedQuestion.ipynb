{
  "cells": [
    {
      "cell_type": "markdown",
      "metadata": {
        "id": "view-in-github",
        "colab_type": "text"
      },
      "source": [
        "<a href=\"https://colab.research.google.com/github/abhishekpatelspace/Data-Science/blob/main/StringBasedQuestion.ipynb\" target=\"_parent\"><img src=\"https://colab.research.google.com/assets/colab-badge.svg\" alt=\"Open In Colab\"/></a>"
      ]
    },
    {
      "cell_type": "code",
      "execution_count": null,
      "metadata": {
        "colab": {
          "base_uri": "https://localhost:8080/"
        },
        "id": "fJZqZbmxe7Cz",
        "outputId": "bef97a51-cc89-410a-82d3-584d948d900f"
      },
      "outputs": [
        {
          "name": "stdout",
          "output_type": "stream",
          "text": [
            "Enter the desired string input :abhishek'\n",
            "After reversing the stringh is  'kehsihba\n"
          ]
        }
      ],
      "source": [
        "#Write a program to reverse a string.\n",
        "y=input(\"Enter the desired string input :\")\n",
        "y=y[::-1]\n",
        "print(\"After reversing the stringh is \",y)\n"
      ]
    },
    {
      "cell_type": "code",
      "execution_count": null,
      "metadata": {
        "colab": {
          "base_uri": "https://localhost:8080/"
        },
        "id": "wkP_uGY_gRTI",
        "outputId": "35fecd63-8c02-4f83-9844-dd342672e7c1"
      },
      "outputs": [
        {
          "name": "stdout",
          "output_type": "stream",
          "text": [
            "Enter the string input noon\n",
            "Entered string is palindrome\n"
          ]
        }
      ],
      "source": [
        "#Check if a string is a palindrome.\n",
        "a=input(\"Enter the string input \")\n",
        "b=\"\"\n",
        "for i in a:\n",
        "    b=i+b\n",
        "if a==b:\n",
        "    print(\"Entered string is palindrome\")\n",
        "else:\n",
        "    print(\"Entered string is not an palindrome\")\n"
      ]
    },
    {
      "cell_type": "code",
      "execution_count": null,
      "metadata": {
        "colab": {
          "base_uri": "https://localhost:8080/"
        },
        "id": "BQnstjoMgqf7",
        "outputId": "c1d33def-4bd5-4fd4-8a6a-a427fd2efcc2"
      },
      "outputs": [
        {
          "name": "stdout",
          "output_type": "stream",
          "text": [
            "Enter the words you wish to insert enter the words you wish to insert enter whatever you wish to enter\n",
            "ENTER THE WORDS YOU WISH TO INSERT ENTER WHATEVER YOU WISH TO ENTER\n"
          ]
        }
      ],
      "source": [
        "#Convert a string to uppercase.\n",
        "string=input(\"Enter the words you wish to insert \")\n",
        "string=string.upper()\n",
        "print(string)"
      ]
    },
    {
      "cell_type": "code",
      "execution_count": null,
      "metadata": {
        "colab": {
          "base_uri": "https://localhost:8080/"
        },
        "id": "9ikY8h3ukw5n",
        "outputId": "ad8c8d5a-538e-4e53-9df8-60ecd526e604"
      },
      "outputs": [
        {
          "name": "stdout",
          "output_type": "stream",
          "text": [
            "Enter the string :ABHISHEK PATEL\n",
            "After lowercasing the word is sentence : abhishek patel\n"
          ]
        }
      ],
      "source": [
        "#Convert a string to lowercase.\n",
        "demo=input(\"Enter the string :\")\n",
        "demo=demo.lower()\n",
        "print(\"After lowercasing the word is sentence :\",demo)"
      ]
    },
    {
      "cell_type": "code",
      "execution_count": null,
      "metadata": {
        "colab": {
          "base_uri": "https://localhost:8080/"
        },
        "id": "UI9_fUuLltU9",
        "outputId": "886725f9-2a68-49b7-978a-3245ea57f053"
      },
      "outputs": [
        {
          "name": "stdout",
          "output_type": "stream",
          "text": [
            "Enter the string :abhi\n",
            "2\n"
          ]
        }
      ],
      "source": [
        "#5. Count the number of vowels in a string.\n",
        "demo1=input(\"Enter the string :\")\n",
        "vowels=\"aeiouAEIOU\"\n",
        "count=sum(demo1.count(vowel) for vowel in vowels)\n",
        "print(count)\n"
      ]
    },
    {
      "cell_type": "code",
      "execution_count": null,
      "metadata": {
        "colab": {
          "base_uri": "https://localhost:8080/"
        },
        "id": "32Z0OHut3WVu",
        "outputId": "96fa2da2-a954-4a12-c802-dad8c148e29a"
      },
      "outputs": [
        {
          "name": "stdout",
          "output_type": "stream",
          "text": [
            "Enter the string inputabhishek\n",
            "5\n"
          ]
        }
      ],
      "source": [
        "#6.Count the number of consonants in a string.\n",
        "demo2=input(\"Enter the string input\")\n",
        "constant=\"bcdfghjklmnpqrstvwxyzBCDFGHJKLMNPQRSTVWXYZ\"\n",
        "count=sum(demo2.count(constants) for constants in constant)\n",
        "print(count)"
      ]
    },
    {
      "cell_type": "code",
      "execution_count": null,
      "metadata": {
        "colab": {
          "base_uri": "https://localhost:8080/"
        },
        "id": "OvLVhmualw3a",
        "outputId": "81f68d0d-96ad-4415-d2eb-59910452cdbc"
      },
      "outputs": [
        {
          "name": "stdout",
          "output_type": "stream",
          "text": [
            "Enter the string where is jobs in world \n",
            "whereisjobsinworld\n"
          ]
        }
      ],
      "source": [
        "#7.Remove all whitespaces from a string.\n",
        "demo3= input(\"Enter the string \")\n",
        "demo3=demo3.replace(\" \",\"\")\n",
        "print(demo3)"
      ]
    },
    {
      "cell_type": "code",
      "execution_count": null,
      "metadata": {
        "colab": {
          "base_uri": "https://localhost:8080/"
        },
        "id": "QTajLg5Wpm30",
        "outputId": "b0447d79-b164-4c4d-8fd9-f7932f4c5724"
      },
      "outputs": [
        {
          "name": "stdout",
          "output_type": "stream",
          "text": [
            "Enter the string :coding is my love \n",
            "18\n"
          ]
        }
      ],
      "source": [
        "#Find the length of a string without using the `len()` function.\n",
        "demo4=input(\"Enter the string :\")\n",
        "num=0\n",
        "for len in demo4:\n",
        "    num+=1\n",
        "print(num)"
      ]
    },
    {
      "cell_type": "code",
      "execution_count": null,
      "metadata": {
        "colab": {
          "background_save": true,
          "base_uri": "https://localhost:8080/"
        },
        "id": "YUugq43ystB_",
        "outputId": "452a8050-1619-4a16-bdcd-f02b092d56d3"
      },
      "outputs": [
        {
          "name": "stdout",
          "output_type": "stream",
          "text": [
            "Specific character not found\n"
          ]
        }
      ],
      "source": [
        "#8.Check if a string contains a specific word.\n",
        "name=input(\"Enter the input string :\")\n",
        "check=\"abhishek\"\n",
        "if name=check:\n",
        "    print(\"specific character found\")\n",
        "    else:\n",
        "        print(\"Specific character \")\n"
      ]
    },
    {
      "cell_type": "code",
      "source": [
        "#9.Check if a string contains a specific word.\n",
        "find_specific=\" recession ia still ongoing\"\n",
        "if \"still\" in find_specific:\n",
        "    print(\" the specific string is found\")\n",
        "else:\n",
        "    print(\" the specific string is not found\")\n"
      ],
      "metadata": {
        "colab": {
          "base_uri": "https://localhost:8080/"
        },
        "id": "xVzPg8Zcbs6a",
        "outputId": "1e9cb1e9-5103-4292-c122-beb5a39ae3a3"
      },
      "execution_count": null,
      "outputs": [
        {
          "output_type": "stream",
          "name": "stdout",
          "text": [
            " the specific string is found\n"
          ]
        }
      ]
    },
    {
      "cell_type": "code",
      "source": [
        "#10. Replace a word in a string with another word.\n",
        "name=\"Indian comapnies are scamming in india\"\n",
        "check=name.replace(\"scamming\",\"fooling\")\n",
        "print(check)"
      ],
      "metadata": {
        "colab": {
          "base_uri": "https://localhost:8080/"
        },
        "id": "ultfDhNXf8Gx",
        "outputId": "1c416251-91a5-42ad-c783-476d7c58db9b"
      },
      "execution_count": null,
      "outputs": [
        {
          "output_type": "stream",
          "name": "stdout",
          "text": [
            "Indian comapnies are fooling in india\n"
          ]
        }
      ]
    },
    {
      "cell_type": "code",
      "source": [
        "#11. Count the occurrences of a word in a string\n",
        "string=\"it is belived that god is every where\"\n",
        "a=string.split(\" \")\n",
        "word=\"is\"\n",
        "count=0\n",
        "for i in range(0,len(a)):\n",
        "    if word==a[i]:\n",
        "        count=count+1\n",
        "print(count)\n",
        "print(a)\n",
        "\n"
      ],
      "metadata": {
        "id": "OMzzjwzgh07t",
        "colab": {
          "base_uri": "https://localhost:8080/"
        },
        "outputId": "11dcba1f-e01e-4cf9-ef32-f13f9fee2a15"
      },
      "execution_count": null,
      "outputs": [
        {
          "output_type": "stream",
          "name": "stdout",
          "text": [
            "2\n",
            "['it', 'is', 'belived', 'that', 'god', 'is', 'every', 'where']\n"
          ]
        }
      ]
    },
    {
      "cell_type": "code",
      "source": [
        "#12 Find the first occurrence of a word in a string.\n",
        "x=\"it is belived that god is a sign of belive and faith\"\n",
        "index=x.find(\"that\")\n",
        "\n",
        "print(index)"
      ],
      "metadata": {
        "colab": {
          "base_uri": "https://localhost:8080/"
        },
        "id": "SZwOQBXOm4UT",
        "outputId": "13b59f30-2218-4e38-b6f4-a1a447ee708e"
      },
      "execution_count": null,
      "outputs": [
        {
          "output_type": "stream",
          "name": "stdout",
          "text": [
            "14\n",
            "14\n"
          ]
        }
      ]
    },
    {
      "cell_type": "code",
      "source": [
        "#13.Find the last occurrence of a word in a string.\n",
        "x=\"procastination is something that resist of doing anything\"\n",
        "y=x.rfind(\"doing\")\n",
        "print(y)"
      ],
      "metadata": {
        "colab": {
          "base_uri": "https://localhost:8080/"
        },
        "id": "Qau3tH3Lp9km",
        "outputId": "e7121509-0f74-45b9-e839-89560b6bcbfc"
      },
      "execution_count": null,
      "outputs": [
        {
          "output_type": "stream",
          "name": "stdout",
          "text": [
            "43\n"
          ]
        }
      ]
    },
    {
      "cell_type": "code",
      "source": [
        "#14.  Split a string into a list of words.\n",
        "sentence=\"Now days many of students facing depression, but they are unable to tell anyone that what they are facing\"\n",
        "words=sentence.split(\" \")\n",
        "print(words)"
      ],
      "metadata": {
        "colab": {
          "base_uri": "https://localhost:8080/"
        },
        "id": "JEuoyuNDtTdt",
        "outputId": "69d0ca9f-7a08-4102-9bb8-25d60f0caadb"
      },
      "execution_count": null,
      "outputs": [
        {
          "output_type": "stream",
          "name": "stdout",
          "text": [
            "['Now', 'days', 'many', 'of', 'students', 'facing', 'depression,', 'but', 'they', 'are', 'unable', 'to', 'tell', 'anyone', 'that', 'what', 'they', 'are', 'facing']\n"
          ]
        }
      ]
    },
    {
      "cell_type": "code",
      "source": [
        "#15. Join a list of words into a string.\n",
        "words=[\"i\",\"will\",\"manually\",\"approve\"]\n",
        "y=\" \".join(words)\n",
        "print(y)\n",
        "\n"
      ],
      "metadata": {
        "colab": {
          "base_uri": "https://localhost:8080/"
        },
        "id": "ecMVCvCNuUno",
        "outputId": "46f1b8da-c72e-4626-a02e-0fa64eb2e063"
      },
      "execution_count": null,
      "outputs": [
        {
          "output_type": "stream",
          "name": "stdout",
          "text": [
            "i will manually approve\n"
          ]
        }
      ]
    },
    {
      "cell_type": "code",
      "source": [
        "#16. Convert a string where words are separated by spaces to one where words are separated by underscores.\n",
        "demo=\"i will approve your request manually\"\n",
        "check=demo.replace(\" \",\"_\")\n",
        "print(check)\n"
      ],
      "metadata": {
        "colab": {
          "base_uri": "https://localhost:8080/"
        },
        "id": "jNbLlFdpvY0X",
        "outputId": "1c040496-827d-4e17-eb4f-5a4549785c86"
      },
      "execution_count": null,
      "outputs": [
        {
          "output_type": "stream",
          "name": "stdout",
          "text": [
            "i_will_approve_your_request_manually\n"
          ]
        }
      ]
    },
    {
      "cell_type": "code",
      "source": [
        "#17. Check if a string starts with a specific word or phrase.\n",
        "x=\"check while words starts with\"\n",
        "y=x.startswith(\"check\")\n",
        "print(y)\n",
        "\n"
      ],
      "metadata": {
        "colab": {
          "base_uri": "https://localhost:8080/"
        },
        "id": "QRBXqhTTyGti",
        "outputId": "c6f44391-4a43-4669-d53b-112605b149e1"
      },
      "execution_count": null,
      "outputs": [
        {
          "output_type": "stream",
          "name": "stdout",
          "text": [
            "True\n"
          ]
        }
      ]
    },
    {
      "cell_type": "code",
      "source": [
        "#18.Check if a string ends with a specific word or phrase.\n",
        "x=\"check while words starts with\"\n",
        "y=x.endswith(\"with\")\n",
        "print(y)\n"
      ],
      "metadata": {
        "colab": {
          "base_uri": "https://localhost:8080/"
        },
        "id": "eTh8NkQC1T0P",
        "outputId": "15fc9974-0c96-44f3-8124-1f6f58640c70"
      },
      "execution_count": null,
      "outputs": [
        {
          "output_type": "stream",
          "name": "stdout",
          "text": [
            "True\n"
          ]
        }
      ]
    },
    {
      "cell_type": "code",
      "source": [
        "#19. Convert a string to title case (e.g., \"hello world\" to \"Hello World\").\n",
        "name=\"pw skills\"\n",
        "check=check.capitalize()\n",
        "print(check)"
      ],
      "metadata": {
        "colab": {
          "base_uri": "https://localhost:8080/"
        },
        "id": "a1RwLMdo3a_E",
        "outputId": "8a30e32c-4f67-4a9c-8818-5b317340d28d"
      },
      "execution_count": null,
      "outputs": [
        {
          "output_type": "stream",
          "name": "stdout",
          "text": [
            "I_will_approve_your_request_manually\n"
          ]
        }
      ]
    },
    {
      "cell_type": "code",
      "source": [
        "#20 Find the longest word in a string.\n",
        "name=\"the brown fox jumpss over \"\n",
        "longest=max(name.split(),key=len)\n",
        "print(longest)\n",
        "print(len(longest))"
      ],
      "metadata": {
        "id": "vfgknMfm3_f9"
      },
      "execution_count": null,
      "outputs": []
    },
    {
      "cell_type": "code",
      "source": [
        "#21 Find the shortest word in a string\n",
        "name=\"why is this happening \"\n",
        "minimum=min(name.split(),key=len)\n",
        "print(minimum)\n",
        "print(len(minimum))"
      ],
      "metadata": {
        "colab": {
          "base_uri": "https://localhost:8080/"
        },
        "id": "Tx0mUyo85q4y",
        "outputId": "dfcaee7b-0e1e-42d0-febc-f3429f3859b8"
      },
      "execution_count": null,
      "outputs": [
        {
          "output_type": "stream",
          "name": "stdout",
          "text": [
            "the\n",
            "3\n"
          ]
        }
      ]
    },
    {
      "cell_type": "code",
      "source": [
        "#22. Reverse the order of words in a string\n",
        "name=\"A lazy fox jumps over\"\n",
        "check=name.split(\" \")\n",
        "reverse=' '.join(reversed(check))\n",
        "print(reverse)"
      ],
      "metadata": {
        "id": "J96mwa8X9s0e"
      },
      "execution_count": null,
      "outputs": []
    },
    {
      "cell_type": "code",
      "source": [
        "#23. Check if a string is alphanumeric.\n",
        "demo=\"hello5255\"\n",
        "check=demo.isalnum()\n",
        "print(check)"
      ],
      "metadata": {
        "colab": {
          "base_uri": "https://localhost:8080/",
          "height": 193
        },
        "id": "hIlu2XaJIeF_",
        "outputId": "65777feb-285a-4692-d83e-7233b5124772"
      },
      "execution_count": null,
      "outputs": [
        {
          "output_type": "error",
          "ename": "AttributeError",
          "evalue": "'str' object has no attribute 'alphanum'",
          "traceback": [
            "\u001b[0;31m---------------------------------------------------------------------------\u001b[0m",
            "\u001b[0;31mAttributeError\u001b[0m                            Traceback (most recent call last)",
            "\u001b[0;32m<ipython-input-1-9de6d06109ce>\u001b[0m in \u001b[0;36m<cell line: 3>\u001b[0;34m()\u001b[0m\n\u001b[1;32m      1\u001b[0m \u001b[0;31m#23. Check if a string is alphanumeric.\u001b[0m\u001b[0;34m\u001b[0m\u001b[0;34m\u001b[0m\u001b[0m\n\u001b[1;32m      2\u001b[0m \u001b[0mdemo\u001b[0m\u001b[0;34m=\u001b[0m\u001b[0;34m\"hello5255\"\u001b[0m\u001b[0;34m\u001b[0m\u001b[0;34m\u001b[0m\u001b[0m\n\u001b[0;32m----> 3\u001b[0;31m \u001b[0mcheck\u001b[0m\u001b[0;34m=\u001b[0m\u001b[0mdemo\u001b[0m\u001b[0;34m.\u001b[0m\u001b[0malphanum\u001b[0m\u001b[0;34m(\u001b[0m\u001b[0;34m)\u001b[0m\u001b[0;34m\u001b[0m\u001b[0;34m\u001b[0m\u001b[0m\n\u001b[0m\u001b[1;32m      4\u001b[0m \u001b[0mprint\u001b[0m\u001b[0;34m(\u001b[0m\u001b[0mcheck\u001b[0m\u001b[0;34m)\u001b[0m\u001b[0;34m\u001b[0m\u001b[0;34m\u001b[0m\u001b[0m\n",
            "\u001b[0;31mAttributeError\u001b[0m: 'str' object has no attribute 'alphanum'"
          ]
        }
      ]
    },
    {
      "cell_type": "code",
      "source": [
        "#24. Extract all digits from a string\n",
        "s=\"i1 love4 my2 india5 \"\n",
        "for i in s:\n",
        "    if(i.isnumeric()):\n",
        "        print(i,end=\" \")"
      ],
      "metadata": {
        "id": "gTCV_tblJYPJ"
      },
      "execution_count": null,
      "outputs": []
    },
    {
      "cell_type": "code",
      "source": [
        "#25. Extract all alphabets from a string.\n",
        "s=\"i1 love4 my2 india5 \"\n",
        "for i in s:\n",
        "    if(i.isalpha()):\n",
        "        print(i,end=\"\")"
      ],
      "metadata": {
        "id": "YGhH7EWyLHom"
      },
      "execution_count": null,
      "outputs": []
    },
    {
      "cell_type": "code",
      "source": [
        "#Count the number of uppercase and lowercase letters in a string.\n",
        "Str=\"AbhishekPATEL\"\n",
        "lower=0\n",
        "upper=0\n",
        "for i in Str:\n",
        "\tif(i.islower()):\n",
        "\t\t\tlower+=1\n",
        "\telse:\n",
        "\t\t\tupper+=1\n",
        "print(\"The number of lowercase characters is:\",lower)\n",
        "print(\"The number of uppercase characters is:\",upper)\n"
      ],
      "metadata": {
        "id": "bpN-fkmkLg-P"
      },
      "execution_count": null,
      "outputs": []
    },
    {
      "cell_type": "code",
      "source": [
        "#28  Swap the case of each character in a string.\n",
        "str=\"AbHiShEk pAtEl\"\n",
        "check=str.swapcase()\n",
        "print(check)\n"
      ],
      "metadata": {
        "colab": {
          "base_uri": "https://localhost:8080/"
        },
        "id": "xATfLq9uOTmo",
        "outputId": "ea52f4e4-5082-4c5a-c3e8-cec2eeaf9ae8"
      },
      "execution_count": null,
      "outputs": [
        {
          "output_type": "stream",
          "name": "stdout",
          "text": [
            "aBhIsHeK PaTeL\n"
          ]
        }
      ]
    },
    {
      "cell_type": "code",
      "source": [
        "#29. Remove a specific word from a string.\n",
        "str=\"russia is under a dictatorship\"\n",
        "check=str.replace(\"under\",\"\")\n",
        "print(check)\n",
        "\n",
        "\n"
      ],
      "metadata": {
        "colab": {
          "base_uri": "https://localhost:8080/"
        },
        "id": "-c1NQBzwXP2b",
        "outputId": "0d18de17-410b-4e85-b302-3a436c5b9266"
      },
      "execution_count": null,
      "outputs": [
        {
          "output_type": "stream",
          "name": "stdout",
          "text": [
            "russia is  a dictatorship\n"
          ]
        }
      ]
    },
    {
      "cell_type": "code",
      "source": [
        "#30. Check if a string is a valid email address\n",
        "import re\n",
        "\n",
        "def validate_email(email):\n",
        "    if re.match(r\"[^@]+@[^@]+\\.[^@]+\", email):\n",
        "        return True\n",
        "    return False\n",
        "\n",
        "email = \"abhishekpatelspace@domain.com\"\n",
        "if validate_email(email):\n",
        "    print(\"Valid email address\")\n",
        "else:\n",
        "    print(\"Invalid email address\")\n"
      ],
      "metadata": {
        "colab": {
          "base_uri": "https://localhost:8080/"
        },
        "id": "pCVIagpxXAus",
        "outputId": "19c28e8f-778d-4489-aa4a-e460d09b51e3"
      },
      "execution_count": null,
      "outputs": [
        {
          "output_type": "stream",
          "name": "stdout",
          "text": [
            "Valid email address\n"
          ]
        }
      ]
    },
    {
      "cell_type": "code",
      "source": [
        "#31.. Extract the username from an email address string.\n"
      ],
      "metadata": {
        "id": "6QQTDf_CdTHV"
      },
      "execution_count": null,
      "outputs": []
    },
    {
      "cell_type": "code",
      "source": [
        "#32 Replace multiple spaces in a string with a single space\n",
        "str=\"here  multiple  spaces  are replaced  with single space\"\n",
        "check=str.replace(\"  \",\" \")\n",
        "print(check)"
      ],
      "metadata": {
        "colab": {
          "base_uri": "https://localhost:8080/"
        },
        "id": "8r4xUqd7ayis",
        "outputId": "614e140f-5dbc-4137-ff0b-ed3b0dacc468"
      },
      "execution_count": null,
      "outputs": [
        {
          "output_type": "stream",
          "name": "stdout",
          "text": [
            "here multiple spaces are replaced with single space\n"
          ]
        }
      ]
    },
    {
      "cell_type": "code",
      "source": [
        "#33.Check if a string is a valid URL\n",
        "def Find(string):\n",
        "    x=string.split()\n",
        "    res=[]\n",
        "    for i in x:\n",
        "        if i.startswith(\"https:\") or i.startswith(\"http:\"):\n",
        "            res.append(i)\n",
        "    return res\n",
        "\n",
        "string = 'My Profile: https://www.google.com search engine url https://www.gmail.com/'\n",
        "print(\"Urls: \", Find(string))"
      ],
      "metadata": {
        "colab": {
          "base_uri": "https://localhost:8080/"
        },
        "id": "7WTgJMROi65V",
        "outputId": "1873c656-4c96-46b4-9306-41528bb4999a"
      },
      "execution_count": null,
      "outputs": [
        {
          "output_type": "stream",
          "name": "stdout",
          "text": [
            "Urls:  ['https://www.google.com', 'https://www.gmail.com/']\n"
          ]
        }
      ]
    },
    {
      "cell_type": "code",
      "source": [
        "#35. Extract the protocol (http or https) from a URL string.\n",
        "import tldextrct\n",
        "url = input(\"Enter URL: \")\n",
        "\n",
        "extracted_info =tldextract.extract(url)\n",
        "print(\"The result after extraction is:\", extracted_info)\n",
        "print(\"Domain name is:\", extracted_info.domain)\n"
      ],
      "metadata": {
        "id": "2VHMD0LWjdGV"
      },
      "execution_count": null,
      "outputs": []
    },
    {
      "cell_type": "code",
      "source": [
        "#36.  Find the frequency of each character in a string\n",
        "\n",
        "test = \"I am solving assignments \"\n",
        "check_freq = {}\n",
        "\n",
        "for i in test:\n",
        "\tif i in check_freq:\n",
        "\t\tcheck_freq[i] += 1\n",
        "\telse:\n",
        "\t\tcheck_freq[i] = 1\n",
        "\n",
        "# printing result\n",
        "print(\"Count of all characters in GeeksforGeeks is : \",str(check_freq))\n"
      ],
      "metadata": {
        "colab": {
          "base_uri": "https://localhost:8080/"
        },
        "id": "25US63DWWkF9",
        "outputId": "b222c08b-3a02-4d20-af03-916bd6b2e707"
      },
      "execution_count": 5,
      "outputs": [
        {
          "output_type": "stream",
          "name": "stdout",
          "text": [
            "Count of all characters in GeeksforGeeks is :  {'I': 1, ' ': 4, 'a': 2, 'm': 2, 's': 4, 'o': 1, 'l': 1, 'v': 1, 'i': 2, 'n': 3, 'g': 2, 'e': 1, 't': 1}\n"
          ]
        }
      ]
    },
    {
      "cell_type": "code",
      "source": [
        "test=\"i am solving assignment\"\n",
        "check_frequency={}\n",
        "for i in test:\n",
        "    if i in check_frequency:\n",
        "        check_frequency[i] += 1\n",
        "    else:\n",
        "        check_frequency[i] = 1\n",
        "print(\"count of all characters in input string are :/n\",str(check_frequency))"
      ],
      "metadata": {
        "colab": {
          "base_uri": "https://localhost:8080/"
        },
        "id": "eaTi8qRWYBuv",
        "outputId": "3a568837-296f-4103-d7fa-6c0973890332"
      },
      "execution_count": 10,
      "outputs": [
        {
          "output_type": "stream",
          "name": "stdout",
          "text": [
            "count of all characters in input string are :/n {'i': 3, ' ': 3, 'a': 2, 'm': 2, 's': 3, 'o': 1, 'l': 1, 'v': 1, 'n': 3, 'g': 2, 'e': 1, 't': 1}\n"
          ]
        }
      ]
    },
    {
      "cell_type": "code",
      "source": [
        "#37. Remove all punctuation from a string.\n",
        "test_demo=\"I am ! able # to approch $ all & the * ? prblems easily\"\n",
        "print(\"The original string before : \",test_demo)\n",
        "punch='''!()-[]{};:'\"\\,<>./?@#$%^&*_~'''\n",
        "for elem in test:\n",
        "    if elem in punch:\n",
        "        test_demo=test_demo.replace(elem, \"\")\n",
        "print(\"After removing punchuation from string :\"+ test_demo)"
      ],
      "metadata": {
        "colab": {
          "base_uri": "https://localhost:8080/"
        },
        "id": "s4KAZOH_Y1f3",
        "outputId": "9187f726-ab25-48c8-98df-12b3d75e8973"
      },
      "execution_count": 30,
      "outputs": [
        {
          "output_type": "stream",
          "name": "stdout",
          "text": [
            "The original string before :  I am ! able # to approch $ all & the * ? prblems easily\n",
            "After removing punchuation from string :I am  able  to approch  all  the   prblems easily\n"
          ]
        }
      ]
    },
    {
      "cell_type": "code",
      "source": [
        "#37.Check if a string contains only digits\n",
        "test_digit= input(\"enter the numeric digits: \")\n",
        "if test_digit.isdigit():\n",
        "    print(\"Contains digit only\")\n",
        "else:\n",
        "    print(\"not contains digit only\")\n",
        "\n"
      ],
      "metadata": {
        "colab": {
          "base_uri": "https://localhost:8080/"
        },
        "id": "L4JGwCAxbU6R",
        "outputId": "8f03c45e-5090-4589-8a62-f62a1e8240b7"
      },
      "execution_count": 34,
      "outputs": [
        {
          "output_type": "stream",
          "name": "stdout",
          "text": [
            "enter the numeric digits: fhadsyfgsd64\n",
            "not contains digit only\n"
          ]
        }
      ]
    },
    {
      "cell_type": "code",
      "source": [
        "#38 Check if a string contains only alphabets.\n",
        "test_alpha=input(\"Enter the whatever you wish to :\")\n",
        "if test_alpha.isalpha():\n",
        "    print(\"contains alphabet only\")\n",
        "else:\n",
        "    print(\"not conatains alphabets only\")"
      ],
      "metadata": {
        "colab": {
          "base_uri": "https://localhost:8080/"
        },
        "id": "C_MniApdcr8E",
        "outputId": "5709dfe2-e5c3-4cd7-ed1e-cf65ec61c2ed"
      },
      "execution_count": 37,
      "outputs": [
        {
          "output_type": "stream",
          "name": "stdout",
          "text": [
            "Enter the whatever you wish to :45464sdf\n",
            "not conatains alphabets only\n"
          ]
        }
      ]
    }
  ],
  "metadata": {
    "colab": {
      "provenance": [],
      "authorship_tag": "ABX9TyNrx7H6Qob0zIL1pIXaiZhl",
      "include_colab_link": true
    },
    "kernelspec": {
      "display_name": "Python 3",
      "name": "python3"
    },
    "language_info": {
      "name": "python"
    }
  },
  "nbformat": 4,
  "nbformat_minor": 0
}